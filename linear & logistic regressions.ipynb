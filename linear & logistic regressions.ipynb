{
 "cells": [
  {
   "cell_type": "code",
   "execution_count": 61,
   "id": "2da31c71",
   "metadata": {},
   "outputs": [],
   "source": [
    "import sys\n",
    "assert sys.version_info >= (3, 5)\n",
    "\n",
    "# Scikit-Learn ≥0.20 is required\n",
    "import sklearn\n",
    "assert sklearn.__version__ >= \"0.20\"\n",
    "\n",
    "# Common imports\n",
    "import numpy as np\n",
    "import os\n",
    "\n",
    "# to make this notebook's output stable across runs\n",
    "np.random.seed(42)\n",
    "\n",
    "# To plot pretty figures\n",
    "%matplotlib inline\n",
    "import matplotlib as mpl\n",
    "import matplotlib.pyplot as plt\n",
    "mpl.rc('axes', labelsize=14)\n",
    "mpl.rc('xtick', labelsize=12)\n",
    "mpl.rc('ytick', labelsize=12)\n",
    "\n",
    "# Where to save the figures\n",
    "PROJECT_ROOT_DIR = \".\"\n",
    "CHAPTER_ID = \"training_linear_models\"\n",
    "IMAGES_PATH = os.path.join(PROJECT_ROOT_DIR, \"images\", CHAPTER_ID)\n",
    "os.makedirs(IMAGES_PATH, exist_ok=True)\n",
    "\n",
    "def save_fig(fig_id, tight_layout=True, fig_extension=\"png\", resolution=300):\n",
    "    path = os.path.join(IMAGES_PATH, fig_id + \".\" + fig_extension)\n",
    "    print(\"Saving figure\", fig_id)\n",
    "    if tight_layout:\n",
    "        plt.tight_layout()\n",
    "    plt.savefig(path, format=fig_extension, dpi=resolution)"
   ]
  },
  {
   "cell_type": "markdown",
   "id": "d69a8a38",
   "metadata": {},
   "source": [
    "## Linear regression"
   ]
  },
  {
   "cell_type": "code",
   "execution_count": 51,
   "id": "f163f00f",
   "metadata": {},
   "outputs": [],
   "source": [
    "import numpy as np\n",
    "\n",
    "X = 2 * np.random.rand(100, 1)\n",
    "y = 4 + 3 * X + np.random.randn(100, 1)"
   ]
  },
  {
   "cell_type": "code",
   "execution_count": 52,
   "id": "634f91dc",
   "metadata": {},
   "outputs": [
    {
     "name": "stdout",
     "output_type": "stream",
     "text": [
      "Saving figure generated_data_plot\n"
     ]
    },
    {
     "data": {
      "image/png": "[encoded data removed]",
      "text/plain": [
       "<Figure size 432x288 with 1 Axes>"
      ]
     },
     "metadata": {
      "needs_background": "light"
     },
     "output_type": "display_data"
    }
   ],
   "source": [
    "plt.plot(X, y, \"b.\")\n",
    "plt.xlabel(\"$x_1$\", fontsize=18)\n",
    "plt.ylabel(\"$y$\", rotation=0, fontsize=18)\n",
    "plt.axis([0, 2, 0, 15])\n",
    "save_fig(\"generated_data_plot\")\n",
    "plt.show()"
   ]
  },
  {
   "cell_type": "code",
   "execution_count": 53,
   "id": "635372df",
   "metadata": {},
   "outputs": [],
   "source": [
    "X_b=np.c_[np.ones((100,1)),X]"
   ]
  },
  {
   "cell_type": "code",
   "execution_count": 54,
   "id": "ddc00de7",
   "metadata": {},
   "outputs": [
    {
     "data": {
      "text/plain": [
       "array([[1.        , 1.        , 1.        , 1.        , 1.        ,\n",
       "        1.        , 1.        , 1.        , 1.        , 1.        ,\n",
       "        1.        , 1.        , 1.        , 1.        , 1.        ,\n",
       "        1.        , 1.        , 1.        , 1.        , 1.        ,\n",
       "        1.        , 1.        , 1.        , 1.        , 1.        ,\n",
       "        1.        , 1.        , 1.        , 1.        , 1.        ,\n",
       "        1.        , 1.        , 1.        , 1.        , 1.        ,\n",
       "        1.        , 1.        , 1.        , 1.        , 1.        ,\n",
       "        1.        , 1.        , 1.        , 1.        , 1.        ,\n",
       "        1.        , 1.        , 1.        , 1.        , 1.        ,\n",
       "        1.        , 1.        , 1.        , 1.        , 1.        ,\n",
       "        1.        , 1.        , 1.        , 1.        , 1.        ,\n",
       "        1.        , 1.        , 1.        , 1.        , 1.        ,\n",
       "        1.        , 1.        , 1.        , 1.        , 1.        ,\n",
       "        1.        , 1.        , 1.        , 1.        , 1.        ,\n",
       "        1.        , 1.        , 1.        , 1.        , 1.        ,\n",
       "        1.        , 1.        , 1.        , 1.        , 1.        ,\n",
       "        1.        , 1.        , 1.        , 1.        , 1.        ,\n",
       "        1.        , 1.        , 1.        , 1.        , 1.        ,\n",
       "        1.        , 1.        , 1.        , 1.        , 1.        ],\n",
       "       [0.44920965, 0.90487903, 0.28171404, 0.35277397, 0.99673555,\n",
       "        0.8378509 , 1.8296918 , 0.7247878 , 1.1611767 , 1.26452858,\n",
       "        0.02618891, 1.32707474, 0.35607193, 1.92214063, 0.29732546,\n",
       "        0.82924825, 0.17069934, 1.9937485 , 1.00439002, 1.19077003,\n",
       "        0.13415295, 1.49992094, 0.41981119, 1.79610858, 0.41027928,\n",
       "        0.38137544, 0.07309934, 0.94413389, 1.12968227, 0.13141728,\n",
       "        1.55105523, 0.90657767, 1.04878054, 0.88152549, 0.80152612,\n",
       "        1.11928066, 0.31048049, 0.36385626, 1.72357124, 1.89223092,\n",
       "        0.74661863, 0.54148935, 1.28799909, 0.81746834, 0.05077271,\n",
       "        0.31230519, 1.43194446, 1.31784788, 0.05419199, 0.44394432,\n",
       "        0.46214959, 1.34378549, 0.03942108, 0.20821716, 1.59983217,\n",
       "        0.35708932, 1.30549222, 0.47636556, 0.19888279, 0.48634438,\n",
       "        1.44453386, 1.71139294, 1.66043973, 0.79436706, 1.33617027,\n",
       "        0.40996859, 0.58629546, 1.79267164, 0.02600385, 0.17101706,\n",
       "        0.41577251, 0.05306441, 0.36287087, 1.16608312, 0.8428491 ,\n",
       "        1.78534342, 1.63488712, 0.6836347 , 0.51884687, 0.75938482,\n",
       "        1.18058989, 0.53612728, 1.24829782, 0.8188233 , 1.10409436,\n",
       "        0.87225306, 0.58893152, 1.89690661, 1.52721159, 0.28022635,\n",
       "        1.73693595, 0.9748624 , 1.78910445, 1.59971051, 0.85042701,\n",
       "        0.04493862, 0.53735472, 1.08326843, 1.26695644, 0.51577537]])"
      ]
     },
     "execution_count": 54,
     "metadata": {},
     "output_type": "execute_result"
    }
   ],
   "source": [
    "X_b.T"
   ]
  },
  {
   "cell_type": "code",
   "execution_count": 55,
   "id": "3fa511eb",
   "metadata": {},
   "outputs": [],
   "source": [
    "theta=np.linalg.inv(X_b.T.dot(X_b)).dot(X_b.T).dot(y)"
   ]
  },
  {
   "cell_type": "code",
   "execution_count": 56,
   "id": "b2afea41",
   "metadata": {},
   "outputs": [
    {
     "data": {
      "text/plain": [
       "array([[3.94691721],\n",
       "       [3.15288769]])"
      ]
     },
     "execution_count": 56,
     "metadata": {},
     "output_type": "execute_result"
    }
   ],
   "source": [
    "theta"
   ]
  },
  {
   "cell_type": "code",
   "execution_count": 57,
   "id": "68f46d7c",
   "metadata": {},
   "outputs": [
    {
     "data": {
      "text/plain": [
       "LinearRegression()"
      ]
     },
     "execution_count": 57,
     "metadata": {},
     "output_type": "execute_result"
    }
   ],
   "source": [
    "from sklearn.linear_model import LinearRegression\n",
    "linreg=LinearRegression()\n",
    "linreg.fit(X,y)"
   ]
  },
  {
   "cell_type": "code",
   "execution_count": 58,
   "id": "9c9c908d",
   "metadata": {},
   "outputs": [
    {
     "data": {
      "text/plain": [
       "array([3.94691721])"
      ]
     },
     "execution_count": 58,
     "metadata": {},
     "output_type": "execute_result"
    }
   ],
   "source": [
    "linreg.intercept_"
   ]
  },
  {
   "cell_type": "code",
   "execution_count": 59,
   "id": "c290de8c",
   "metadata": {},
   "outputs": [
    {
     "data": {
      "text/plain": [
       "array([[3.15288769]])"
      ]
     },
     "execution_count": 59,
     "metadata": {},
     "output_type": "execute_result"
    }
   ],
   "source": [
    "linreg.coef_"
   ]
  },
  {
   "cell_type": "code",
   "execution_count": 60,
   "id": "ee9b8619",
   "metadata": {},
   "outputs": [
    {
     "data": {
      "text/plain": [
       "array([[0],\n",
       "       [2]])"
      ]
     },
     "execution_count": 60,
     "metadata": {},
     "output_type": "execute_result"
    }
   ],
   "source": [
    "X_new = np.array([[0], [2]])\n",
    "X_new"
   ]
  },
  {
   "cell_type": "code",
   "execution_count": 61,
   "id": "c21e0eed",
   "metadata": {},
   "outputs": [
    {
     "data": {
      "text/plain": [
       "array([[ 3.94691721],\n",
       "       [10.25269258]])"
      ]
     },
     "execution_count": 61,
     "metadata": {},
     "output_type": "execute_result"
    }
   ],
   "source": [
    "linreg.predict(X_new)"
   ]
  },
  {
   "cell_type": "code",
   "execution_count": 62,
   "id": "91e7c906",
   "metadata": {},
   "outputs": [
    {
     "data": {
      "text/plain": [
       "array([[3.94691721],\n",
       "       [3.15288769]])"
      ]
     },
     "execution_count": 62,
     "metadata": {},
     "output_type": "execute_result"
    }
   ],
   "source": [
    "np.linalg.pinv(X_b).dot(y)"
   ]
  },
  {
   "cell_type": "code",
   "execution_count": 63,
   "id": "d2a6fe8a",
   "metadata": {},
   "outputs": [
    {
     "data": {
      "text/plain": [
       "(array([[3.94691721],\n",
       "        [3.15288769]]),\n",
       " array([86.42902314]),\n",
       " 2,\n",
       " array([13.8471973 ,  4.06084018]))"
      ]
     },
     "execution_count": 63,
     "metadata": {},
     "output_type": "execute_result"
    }
   ],
   "source": [
    "np.linalg.lstsq(X_b,y,rcond=1e-6)"
   ]
  },
  {
   "cell_type": "code",
   "execution_count": 64,
   "id": "6058c5dc",
   "metadata": {},
   "outputs": [
    {
     "data": {
      "text/plain": [
       "array([[1, 3],\n",
       "       [2, 4],\n",
       "       [3, 5]])"
      ]
     },
     "execution_count": 64,
     "metadata": {},
     "output_type": "execute_result"
    }
   ],
   "source": [
    "np.array([[1,2,3],[3,4,5]]).T"
   ]
  },
  {
   "cell_type": "code",
   "execution_count": 65,
   "id": "a629025c",
   "metadata": {},
   "outputs": [],
   "source": [
    "X_x=np.c_[np.ones((100,1)),np.random.rand(100,1)]"
   ]
  },
  {
   "cell_type": "code",
   "execution_count": 66,
   "id": "34e80f13",
   "metadata": {},
   "outputs": [],
   "source": [
    "Xi=X_x.T.dot(X_x)"
   ]
  },
  {
   "cell_type": "code",
   "execution_count": 67,
   "id": "906b32c8",
   "metadata": {},
   "outputs": [
    {
     "data": {
      "text/plain": [
       "array([[100.        ,  53.54558935],\n",
       "       [ 53.54558935,  37.4725329 ]])"
      ]
     },
     "execution_count": 67,
     "metadata": {},
     "output_type": "execute_result"
    }
   ],
   "source": [
    "Xi"
   ]
  },
  {
   "cell_type": "code",
   "execution_count": 68,
   "id": "651372b9",
   "metadata": {},
   "outputs": [
    {
     "data": {
      "text/plain": [
       "array([[ 0.04257647, -0.06083875],\n",
       "       [-0.06083875,  0.11362046]])"
      ]
     },
     "execution_count": 68,
     "metadata": {},
     "output_type": "execute_result"
    }
   ],
   "source": [
    "Xii=np.linalg.inv(Xi)\n",
    "Xii"
   ]
  },
  {
   "cell_type": "code",
   "execution_count": 69,
   "id": "75f9c3fe",
   "metadata": {},
   "outputs": [
    {
     "data": {
      "text/plain": [
       "array([[-0.01057696, -0.01729394, -0.00416433,  0.01716006,  0.01694163,\n",
       "        -0.00229712,  0.02804956,  0.03585536,  0.0210017 ,  0.02510121,\n",
       "         0.02454945,  0.02836406,  0.04001557,  0.04148904, -0.01751533,\n",
       "         0.01655128,  0.01919451,  0.00122758,  0.02929817, -0.01521798,\n",
       "        -0.00526378,  0.03713681,  0.01717137, -0.01090799, -0.01489985,\n",
       "         0.01414034,  0.00525729,  0.03241433, -0.01772499,  0.02848185,\n",
       "        -0.01477815,  0.00305278,  0.00560252,  0.01138514,  0.0285428 ,\n",
       "         0.03183672,  0.02916236,  0.0312338 , -0.00485248,  0.02127528,\n",
       "         0.03905739, -0.01638252, -0.01119196, -0.01386682, -0.01795248,\n",
       "         0.0319969 ,  0.0184696 , -0.00355381,  0.00023144,  0.03321363,\n",
       "        -0.0070578 ,  0.02892178,  0.02895968,  0.00990761,  0.00650274,\n",
       "         0.00728475,  0.03701052, -0.01080715,  0.02641769,  0.03469694,\n",
       "        -0.01149385, -0.01556417, -0.0098743 , -0.00667348,  0.00271236,\n",
       "         0.00906299,  0.0372843 ,  0.01772668,  0.01990256,  0.02677337,\n",
       "        -0.00143551,  0.01240801,  0.03764572,  0.0291808 ,  0.00100786,\n",
       "         0.03794476, -0.0092099 ,  0.01245237,  0.01333818,  0.00653512,\n",
       "        -0.00759609,  0.02141619,  0.00132681,  0.00815804,  0.0263308 ,\n",
       "        -0.01087828, -0.00593793,  0.00251708, -0.00917186, -0.01018863,\n",
       "        -0.00051945, -0.00834638,  0.00014318,  0.00119755,  0.00494092,\n",
       "        -0.00321787,  0.03292713, -0.01101461, -0.0104654 ,  0.0407971 ],\n",
       "       [ 0.03842885,  0.05097327,  0.02645283, -0.01337189, -0.01296397,\n",
       "         0.0229657 , -0.03370878, -0.04828663, -0.02054641, -0.02820252,\n",
       "        -0.02717208, -0.03429613, -0.0560561 , -0.0588079 ,  0.05138673,\n",
       "        -0.01223497, -0.01717137,  0.01638309, -0.03604064,  0.04709628,\n",
       "         0.02850614, -0.05067983, -0.01339303,  0.03904708,  0.04650214,\n",
       "        -0.00773237,  0.00885734, -0.04186027,  0.05177829, -0.0345161 ,\n",
       "         0.04627487,  0.01297441,  0.00821259, -0.00258684, -0.03462994,\n",
       "        -0.04078155, -0.035787  , -0.03965554,  0.027738  , -0.02105735,\n",
       "        -0.05426663,  0.04927114,  0.03957741,  0.0445729 ,  0.05220314,\n",
       "        -0.04108069, -0.01581754,  0.02531266,  0.01824344, -0.04335302,\n",
       "         0.03185659, -0.0353377 , -0.03540849,  0.00017254,  0.00653136,\n",
       "         0.00507092, -0.05044397,  0.03885876, -0.03066115, -0.0461232 ,\n",
       "         0.04014122,  0.04774282,  0.03711659,  0.03113884,  0.01361015,\n",
       "         0.00174992, -0.05095527, -0.0144301 , -0.0184937 , -0.0313254 ,\n",
       "         0.02135658, -0.00449712, -0.05163024, -0.03582143,  0.01679343,\n",
       "        -0.05218872,  0.03587578, -0.00457997, -0.00623428,  0.0064709 ,\n",
       "         0.03286189, -0.0213205 ,  0.01619776,  0.00343998, -0.03049887,\n",
       "         0.0389916 ,  0.02976517,  0.01397486,  0.03580474,  0.03770362,\n",
       "         0.01964578,  0.0342631 ,  0.01840828,  0.01643916,  0.00944816,\n",
       "         0.02468527, -0.04281796,  0.0392462 ,  0.03822052, -0.05751566]])"
      ]
     },
     "execution_count": 69,
     "metadata": {},
     "output_type": "execute_result"
    }
   ],
   "source": [
    "Xiii=Xii.dot(X_x.T)\n",
    "Xiii"
   ]
  },
  {
   "cell_type": "code",
   "execution_count": 70,
   "id": "b9132799",
   "metadata": {},
   "outputs": [
    {
     "data": {
      "text/plain": [
       "array([[6.25298806],\n",
       "       [0.84725033]])"
      ]
     },
     "execution_count": 70,
     "metadata": {},
     "output_type": "execute_result"
    }
   ],
   "source": [
    "Xiii.dot(y)"
   ]
  },
  {
   "cell_type": "markdown",
   "id": "1e1a3285",
   "metadata": {},
   "source": [
    "## Batch gradient descent"
   ]
  },
  {
   "cell_type": "code",
   "execution_count": 1,
   "id": "9663eded",
   "metadata": {},
   "outputs": [],
   "source": [
    "import numpy as np\n",
    "\n",
    "X = 2 * np.random.rand(100, 1)\n",
    "y = 4 + 3 * X + np.random.randn(100, 1)"
   ]
  },
  {
   "cell_type": "code",
   "execution_count": 2,
   "id": "4a259983",
   "metadata": {},
   "outputs": [],
   "source": [
    "X_b=np.c_[np.ones((100,1)),X]"
   ]
  },
  {
   "cell_type": "code",
   "execution_count": 3,
   "id": "9d34f5f5",
   "metadata": {},
   "outputs": [],
   "source": [
    "eta=0.1\n",
    "m=len(X_b)\n",
    "iterations=1000\n",
    "theta = np.random.randn(2,1) \n",
    "for i in range(iterations):\n",
    "    gradient=2/m*X_b.T.dot(X_b.dot(theta)-y)\n",
    "    theta=theta-eta*gradient"
   ]
  },
  {
   "cell_type": "code",
   "execution_count": 4,
   "id": "74f544ce",
   "metadata": {},
   "outputs": [
    {
     "data": {
      "text/plain": [
       "array([[4.18841593],\n",
       "       [2.89913183]])"
      ]
     },
     "execution_count": 4,
     "metadata": {},
     "output_type": "execute_result"
    }
   ],
   "source": [
    "theta"
   ]
  },
  {
   "cell_type": "code",
   "execution_count": 5,
   "id": "22f4636d",
   "metadata": {},
   "outputs": [],
   "source": [
    "#from normal eqn\n",
    "theta1=np.linalg.pinv(X_b).dot(y)"
   ]
  },
  {
   "cell_type": "code",
   "execution_count": 6,
   "id": "3da420e5",
   "metadata": {},
   "outputs": [
    {
     "data": {
      "text/plain": [
       "array([[4.18841593],\n",
       "       [2.89913183]])"
      ]
     },
     "execution_count": 6,
     "metadata": {},
     "output_type": "execute_result"
    }
   ],
   "source": [
    "theta1"
   ]
  },
  {
   "cell_type": "markdown",
   "id": "23e68a0b",
   "metadata": {},
   "source": [
    "## Stochastic gradient descent"
   ]
  },
  {
   "cell_type": "code",
   "execution_count": 7,
   "id": "a2a3d7b6",
   "metadata": {},
   "outputs": [],
   "source": [
    "epochs=50\n",
    "t0,t1=5,50\n",
    "m=len(X_b)\n",
    "theta=np.random.randn(2,1)\n",
    "def learning_schedule(t):\n",
    "    return t0/(t+t1)\n",
    "for epoch in range(epochs):\n",
    "    for i in range(m):\n",
    "        ri=np.random.randint(m)#random index\n",
    "        xi=X_b[ri:ri+1]\n",
    "        yi=y[ri:ri+1]\n",
    "        gradient=2*xi.T.dot(xi.dot(theta)-yi)\n",
    "        eta=learning_schedule(epoch*m + i)\n",
    "        theta=theta-eta*gradient"
   ]
  },
  {
   "cell_type": "code",
   "execution_count": 8,
   "id": "dcb53fce",
   "metadata": {},
   "outputs": [
    {
     "data": {
      "text/plain": [
       "array([[4.1993522 ],\n",
       "       [2.91964589]])"
      ]
     },
     "execution_count": 8,
     "metadata": {},
     "output_type": "execute_result"
    }
   ],
   "source": [
    "theta"
   ]
  },
  {
   "cell_type": "code",
   "execution_count": 9,
   "id": "7557c5f7",
   "metadata": {},
   "outputs": [
    {
     "data": {
      "text/plain": [
       "SGDRegressor(eta0=0.1, penalty=None, random_state=42)"
      ]
     },
     "execution_count": 9,
     "metadata": {},
     "output_type": "execute_result"
    }
   ],
   "source": [
    "from sklearn.linear_model import SGDRegressor\n",
    "sgd_reg = SGDRegressor(max_iter=1000, tol=1e-3, penalty=None, eta0=0.1, random_state=42)\n",
    "sgd_reg.fit(X, y.ravel())"
   ]
  },
  {
   "cell_type": "code",
   "execution_count": 10,
   "id": "46f6cbf3",
   "metadata": {},
   "outputs": [
    {
     "data": {
      "text/plain": [
       "(array([4.19733155]), array([2.8853527]))"
      ]
     },
     "execution_count": 10,
     "metadata": {},
     "output_type": "execute_result"
    }
   ],
   "source": [
    "sgd_reg.intercept_, sgd_reg.coef_"
   ]
  },
  {
   "cell_type": "markdown",
   "id": "53637097",
   "metadata": {},
   "source": [
    "## polynomial regression\n"
   ]
  },
  {
   "cell_type": "code",
   "execution_count": 3,
   "id": "24712f62",
   "metadata": {},
   "outputs": [],
   "source": [
    "import numpy as np\n",
    "m=100\n",
    "X=6 * np.random.rand(m, 1) - 3\n",
    "y= 0.5 * X**2 + X + 2 + np.random.randn(m, 1)"
   ]
  },
  {
   "cell_type": "code",
   "execution_count": 4,
   "id": "6893f42d",
   "metadata": {},
   "outputs": [
    {
     "data": {
      "text/plain": [
       "array([[ 1.08310393],\n",
       "       [-1.3897322 ],\n",
       "       [-0.89701712],\n",
       "       [-1.47240307],\n",
       "       [-1.09416312],\n",
       "       [ 2.53927416],\n",
       "       [ 0.46320565],\n",
       "       [-1.13231255],\n",
       "       [-0.53754522],\n",
       "       [-0.10249998],\n",
       "       [-1.57764211],\n",
       "       [ 2.42067055],\n",
       "       [-0.8983771 ],\n",
       "       [-0.85686163],\n",
       "       [ 0.34466437],\n",
       "       [ 0.4032819 ],\n",
       "       [ 1.2806337 ],\n",
       "       [ 0.8033603 ],\n",
       "       [ 2.9769279 ],\n",
       "       [ 2.96957153],\n",
       "       [-2.88186058],\n",
       "       [-2.0525091 ],\n",
       "       [ 1.55406838],\n",
       "       [-1.74003605],\n",
       "       [ 1.59955455],\n",
       "       [ 2.55488475],\n",
       "       [ 1.30053883],\n",
       "       [-1.63166057],\n",
       "       [-0.69931409],\n",
       "       [ 2.1512802 ],\n",
       "       [-2.8802971 ],\n",
       "       [ 1.26353975],\n",
       "       [ 1.60087147],\n",
       "       [-1.4601772 ],\n",
       "       [ 2.33649697],\n",
       "       [-0.09046762],\n",
       "       [ 1.75598065],\n",
       "       [-2.30781393],\n",
       "       [ 1.30784881],\n",
       "       [-1.21990859],\n",
       "       [-0.08588269],\n",
       "       [-0.9438974 ],\n",
       "       [-1.97271315],\n",
       "       [-1.64586464],\n",
       "       [-1.61278974],\n",
       "       [ 0.87033941],\n",
       "       [ 1.24596867],\n",
       "       [-1.14406633],\n",
       "       [ 1.23256314],\n",
       "       [-1.01748283],\n",
       "       [ 1.51369238],\n",
       "       [-0.73804789],\n",
       "       [-0.60557668],\n",
       "       [-1.26022462],\n",
       "       [-1.24201562],\n",
       "       [ 0.39053864],\n",
       "       [-1.27317918],\n",
       "       [-2.19889427],\n",
       "       [-0.55772092],\n",
       "       [ 0.10911261],\n",
       "       [-2.73567163],\n",
       "       [ 0.84838095],\n",
       "       [-1.53576067],\n",
       "       [-2.10840462],\n",
       "       [ 2.18761098],\n",
       "       [ 0.55318281],\n",
       "       [-2.23480923],\n",
       "       [ 0.77458792],\n",
       "       [-0.32345232],\n",
       "       [-1.74113893],\n",
       "       [-0.18248656],\n",
       "       [-2.99699038],\n",
       "       [ 0.46172315],\n",
       "       [ 1.1680098 ],\n",
       "       [ 0.64319787],\n",
       "       [-2.11552723],\n",
       "       [ 0.88321549],\n",
       "       [-2.02945523],\n",
       "       [ 2.81872289],\n",
       "       [-1.510856  ],\n",
       "       [-2.28070689],\n",
       "       [-2.23456273],\n",
       "       [ 2.20944856],\n",
       "       [ 0.48135942],\n",
       "       [ 1.22416236],\n",
       "       [ 0.95345659],\n",
       "       [ 1.27743508],\n",
       "       [ 0.54705202],\n",
       "       [-0.68414132],\n",
       "       [-0.75257642],\n",
       "       [-2.84456365],\n",
       "       [ 0.95741763],\n",
       "       [ 0.94338931],\n",
       "       [ 1.76645585],\n",
       "       [ 2.84958924],\n",
       "       [ 1.8262165 ],\n",
       "       [ 2.12133638],\n",
       "       [-2.66305228],\n",
       "       [-1.81398608],\n",
       "       [-0.51393772]])"
      ]
     },
     "execution_count": 4,
     "metadata": {},
     "output_type": "execute_result"
    }
   ],
   "source": [
    "X"
   ]
  },
  {
   "cell_type": "code",
   "execution_count": 5,
   "id": "3225ea17",
   "metadata": {},
   "outputs": [
    {
     "data": {
      "text/plain": [
       "array([[ 3.65982556],\n",
       "       [ 1.01633019],\n",
       "       [ 0.79249566],\n",
       "       [ 1.02304924],\n",
       "       [ 1.88116846],\n",
       "       [ 7.63842222],\n",
       "       [ 1.18082606],\n",
       "       [ 1.39363957],\n",
       "       [ 0.0171636 ],\n",
       "       [ 0.78478554],\n",
       "       [ 1.08692101],\n",
       "       [ 7.75500891],\n",
       "       [ 3.40465061],\n",
       "       [-0.20187756],\n",
       "       [ 0.27537906],\n",
       "       [ 3.58288906],\n",
       "       [ 3.98242714],\n",
       "       [ 1.96455103],\n",
       "       [ 8.71747357],\n",
       "       [ 8.28438865],\n",
       "       [ 2.29490182],\n",
       "       [ 2.51966779],\n",
       "       [ 3.91677346],\n",
       "       [ 2.4822526 ],\n",
       "       [ 4.87079511],\n",
       "       [ 7.95828688],\n",
       "       [ 5.18010597],\n",
       "       [ 3.59727295],\n",
       "       [ 1.26113579],\n",
       "       [ 4.70614442],\n",
       "       [ 5.59253921],\n",
       "       [ 4.91624595],\n",
       "       [ 4.88313845],\n",
       "       [ 1.4059509 ],\n",
       "       [ 7.12607557],\n",
       "       [ 3.63165206],\n",
       "       [ 3.20443796],\n",
       "       [ 2.69731272],\n",
       "       [ 5.42208039],\n",
       "       [ 1.46671001],\n",
       "       [ 1.12974785],\n",
       "       [ 1.24117441],\n",
       "       [ 1.75735087],\n",
       "       [ 3.13326758],\n",
       "       [ 0.79445348],\n",
       "       [ 2.67426297],\n",
       "       [ 2.82238078],\n",
       "       [ 2.74064877],\n",
       "       [ 5.13028105],\n",
       "       [ 1.50978158],\n",
       "       [ 4.86667281],\n",
       "       [ 0.84162325],\n",
       "       [ 1.18099087],\n",
       "       [ 0.84185261],\n",
       "       [-0.73984408],\n",
       "       [ 1.65105481],\n",
       "       [ 2.11348303],\n",
       "       [ 1.69410255],\n",
       "       [ 1.33974671],\n",
       "       [ 3.38883413],\n",
       "       [ 2.45010914],\n",
       "       [ 2.72147922],\n",
       "       [ 2.25743501],\n",
       "       [ 2.19360747],\n",
       "       [ 6.24797519],\n",
       "       [ 3.5467881 ],\n",
       "       [ 2.84970722],\n",
       "       [ 2.30233853],\n",
       "       [ 0.22833297],\n",
       "       [ 1.63405165],\n",
       "       [ 1.6028965 ],\n",
       "       [ 4.35582168],\n",
       "       [ 2.4179645 ],\n",
       "       [ 3.41328508],\n",
       "       [ 3.81275008],\n",
       "       [ 1.44876497],\n",
       "       [ 3.53390801],\n",
       "       [ 0.51128814],\n",
       "       [ 9.07242353],\n",
       "       [ 2.11125407],\n",
       "       [ 2.81060947],\n",
       "       [ 2.45789436],\n",
       "       [ 6.6625663 ],\n",
       "       [ 4.33876444],\n",
       "       [ 2.7509498 ],\n",
       "       [ 2.03843806],\n",
       "       [ 2.86220339],\n",
       "       [ 1.18914669],\n",
       "       [ 0.95974916],\n",
       "       [ 1.57821347],\n",
       "       [ 3.22722632],\n",
       "       [ 3.57398086],\n",
       "       [ 3.22807382],\n",
       "       [ 3.36461266],\n",
       "       [ 9.80330936],\n",
       "       [ 6.27355383],\n",
       "       [ 8.30879921],\n",
       "       [ 3.40875476],\n",
       "       [ 2.25740918],\n",
       "       [ 2.57295696]])"
      ]
     },
     "execution_count": 5,
     "metadata": {},
     "output_type": "execute_result"
    }
   ],
   "source": [
    "y"
   ]
  },
  {
   "cell_type": "code",
   "execution_count": 6,
   "id": "705ced37",
   "metadata": {},
   "outputs": [],
   "source": [
    "from sklearn.preprocessing import PolynomialFeatures\n",
    "poly=PolynomialFeatures(degree=2,include_bias=False)\n",
    "X_poly=poly.fit_transform(X)"
   ]
  },
  {
   "cell_type": "code",
   "execution_count": 11,
   "id": "4e87efd5",
   "metadata": {},
   "outputs": [
    {
     "data": {
      "text/plain": [
       "array([-1.3897322 ,  1.93135559])"
      ]
     },
     "execution_count": 11,
     "metadata": {},
     "output_type": "execute_result"
    }
   ],
   "source": [
    "X_poly[1]"
   ]
  },
  {
   "cell_type": "code",
   "execution_count": 12,
   "id": "7c5831af",
   "metadata": {},
   "outputs": [],
   "source": [
    "from sklearn.linear_model import LinearRegression\n",
    "linreg=LinearRegression()"
   ]
  },
  {
   "cell_type": "code",
   "execution_count": 13,
   "id": "151449af",
   "metadata": {},
   "outputs": [
    {
     "data": {
      "text/plain": [
       "LinearRegression()"
      ]
     },
     "execution_count": 13,
     "metadata": {},
     "output_type": "execute_result"
    }
   ],
   "source": [
    "linreg.fit(X_poly,y)"
   ]
  },
  {
   "cell_type": "code",
   "execution_count": 14,
   "id": "676d7661",
   "metadata": {},
   "outputs": [
    {
     "data": {
      "text/plain": [
       "array([[0.93560884, 0.54741093]])"
      ]
     },
     "execution_count": 14,
     "metadata": {},
     "output_type": "execute_result"
    }
   ],
   "source": [
    "linreg.coef_"
   ]
  },
  {
   "cell_type": "code",
   "execution_count": 15,
   "id": "dab2b542",
   "metadata": {},
   "outputs": [
    {
     "data": {
      "text/plain": [
       "array([1.76082223])"
      ]
     },
     "execution_count": 15,
     "metadata": {},
     "output_type": "execute_result"
    }
   ],
   "source": [
    "linreg.intercept_"
   ]
  },
  {
   "cell_type": "code",
   "execution_count": 16,
   "id": "55d2b40c",
   "metadata": {},
   "outputs": [],
   "source": [
    "x1=6 * np.random.rand(m, 1) - 3\n",
    "x2=4* np.random.rand(m, 1) - 3"
   ]
  },
  {
   "cell_type": "code",
   "execution_count": 24,
   "id": "d89bca76",
   "metadata": {},
   "outputs": [],
   "source": [
    "Xn=np.concatenate((x1,x2),axis=1)"
   ]
  },
  {
   "cell_type": "code",
   "execution_count": 25,
   "id": "bbefb234",
   "metadata": {},
   "outputs": [
    {
     "data": {
      "text/plain": [
       "array([[-2.8474457 , -0.57574676],\n",
       "       [-2.96499254, -0.62204975],\n",
       "       [ 2.11076427, -1.25820536],\n",
       "       [-1.22784138, -0.19205517],\n",
       "       [-0.55288918, -1.0065793 ],\n",
       "       [ 1.52535745, -0.6396449 ],\n",
       "       [-0.33072201,  0.13892571],\n",
       "       [ 1.88972972, -0.12912386],\n",
       "       [-1.20823207, -1.1468866 ],\n",
       "       [ 1.96372476, -1.41711707],\n",
       "       [-2.46924251, -2.98775282],\n",
       "       [ 1.05519717, -2.23522424],\n",
       "       [ 2.00521507, -2.38996928],\n",
       "       [-0.86506147,  0.97641474],\n",
       "       [-1.47127932, -1.96799356],\n",
       "       [ 0.405985  , -1.70455818],\n",
       "       [ 1.43716277, -0.6845559 ],\n",
       "       [ 0.28267782, -0.44002393],\n",
       "       [ 2.75667326, -0.72369151],\n",
       "       [ 0.77432002, -0.64158945],\n",
       "       [ 0.80683811, -2.38376848],\n",
       "       [ 2.70635003,  0.97284902],\n",
       "       [ 2.41160064, -1.44407491],\n",
       "       [ 0.90955777,  0.05831481],\n",
       "       [-1.43923636, -0.76289561],\n",
       "       [ 1.43990784, -0.47845291],\n",
       "       [ 1.25348805,  0.13234915],\n",
       "       [-1.87091532, -2.58373151],\n",
       "       [-2.06674748, -1.98236161],\n",
       "       [ 2.26405281, -1.0199734 ],\n",
       "       [ 2.68726467, -2.94190135],\n",
       "       [-2.41670563, -2.33921103],\n",
       "       [ 2.83520134, -0.15806809],\n",
       "       [-0.77299803, -1.3146046 ],\n",
       "       [ 2.4063391 , -2.15656988],\n",
       "       [-2.75660529,  0.72345274],\n",
       "       [-0.62331047, -1.81625413],\n",
       "       [-2.76360557, -2.73132172],\n",
       "       [-0.65544402,  0.94185182],\n",
       "       [-0.70465827,  0.33247477],\n",
       "       [ 1.37754602, -2.0158287 ],\n",
       "       [ 0.14555936, -0.06673619],\n",
       "       [-1.27880743,  0.79025195],\n",
       "       [-1.2115714 , -0.61812893],\n",
       "       [-1.83030261, -1.32313503],\n",
       "       [ 1.82302059, -1.08838537],\n",
       "       [-1.17340762, -0.89895913],\n",
       "       [ 0.8881721 , -2.23216864],\n",
       "       [ 0.58268747,  0.06689009],\n",
       "       [-2.5926495 ,  0.80063284],\n",
       "       [-0.19464326,  0.74354223],\n",
       "       [-2.10206187, -1.18259128],\n",
       "       [-2.02062967, -1.20242065],\n",
       "       [ 2.02235488, -0.62465479],\n",
       "       [ 2.19695762,  0.71456392],\n",
       "       [ 2.34291151,  0.02070491],\n",
       "       [ 1.75465389, -0.32679008],\n",
       "       [-2.53319898, -1.53295154],\n",
       "       [-1.06399149, -2.60118784],\n",
       "       [-2.00508023,  0.94511688],\n",
       "       [-0.44491526, -1.32456794],\n",
       "       [ 2.2287413 , -2.25204107],\n",
       "       [ 1.88676218, -2.82007286],\n",
       "       [-0.17541807, -2.19872751],\n",
       "       [ 2.42660583, -1.10466362],\n",
       "       [-2.2357503 , -0.85917111],\n",
       "       [ 1.95398826,  0.05779438],\n",
       "       [ 2.4073422 , -2.21488731],\n",
       "       [ 0.77856636, -0.21001607],\n",
       "       [ 0.77272868, -1.65154547],\n",
       "       [-2.40695658, -2.24067075],\n",
       "       [-1.61330959, -2.12224515],\n",
       "       [-0.86380697, -2.43362206],\n",
       "       [ 2.55585543, -1.24560788],\n",
       "       [-1.8085034 ,  0.70084609],\n",
       "       [-0.87136712, -0.482166  ],\n",
       "       [-0.26590936,  0.84108469],\n",
       "       [-0.23555769, -1.25369983],\n",
       "       [ 0.20956593, -0.35566634],\n",
       "       [ 0.74566658, -2.47480707],\n",
       "       [ 0.60000595,  0.70205361],\n",
       "       [ 2.58230273, -2.10218517],\n",
       "       [-1.1990538 , -2.8965816 ],\n",
       "       [-2.58762784, -1.7649076 ],\n",
       "       [-0.81300747, -1.15084199],\n",
       "       [ 1.02905201, -0.87567121],\n",
       "       [ 2.35023844, -1.02612532],\n",
       "       [-1.34876382,  0.77450919],\n",
       "       [-2.36254615,  0.15386179],\n",
       "       [ 0.26512784,  0.08912314],\n",
       "       [ 1.79125568, -1.31573223],\n",
       "       [ 2.44941014, -1.712493  ],\n",
       "       [ 2.69245582, -0.85112587],\n",
       "       [-2.76013365, -0.36100683],\n",
       "       [ 1.62424006,  0.3947285 ],\n",
       "       [-2.23350253,  0.41713552],\n",
       "       [-2.65067469, -2.14428896],\n",
       "       [-2.42324153, -1.14267814],\n",
       "       [ 0.90667203, -1.9375865 ],\n",
       "       [ 2.47636171, -0.70810532]])"
      ]
     },
     "execution_count": 25,
     "metadata": {},
     "output_type": "execute_result"
    }
   ],
   "source": [
    "Xn"
   ]
  },
  {
   "cell_type": "code",
   "execution_count": 26,
   "id": "3f4a0f5a",
   "metadata": {},
   "outputs": [],
   "source": [
    "polyn=PolynomialFeatures(degree=3)\n",
    "Xnn=polyn.fit_transform(Xn)"
   ]
  },
  {
   "cell_type": "code",
   "execution_count": 28,
   "id": "a58c017f",
   "metadata": {},
   "outputs": [
    {
     "data": {
      "text/plain": [
       "array([  1.        ,  -2.8474457 ,  -0.57574676,   8.10794701,\n",
       "         1.63940763,   0.33148433, -23.08693884,  -4.66812421,\n",
       "        -0.94388363,  -0.19085103])"
      ]
     },
     "execution_count": 28,
     "metadata": {},
     "output_type": "execute_result"
    }
   ],
   "source": [
    "Xnn[0]"
   ]
  },
  {
   "cell_type": "code",
   "execution_count": 32,
   "id": "a29521d6",
   "metadata": {},
   "outputs": [],
   "source": [
    "polyn1=PolynomialFeatures(degree=3,include_bias=False)\n",
    "Xnn1=polyn1.fit_transform(Xn)"
   ]
  },
  {
   "cell_type": "code",
   "execution_count": 33,
   "id": "c87d1a72",
   "metadata": {},
   "outputs": [
    {
     "data": {
      "text/plain": [
       "array([ -2.8474457 ,  -0.57574676,   8.10794701,   1.63940763,\n",
       "         0.33148433, -23.08693884,  -4.66812421,  -0.94388363,\n",
       "        -0.19085103])"
      ]
     },
     "execution_count": 33,
     "metadata": {},
     "output_type": "execute_result"
    }
   ],
   "source": [
    "Xnn1[0]"
   ]
  },
  {
   "cell_type": "markdown",
   "id": "891865d7",
   "metadata": {},
   "source": [
    "### learning curves"
   ]
  },
  {
   "cell_type": "code",
   "execution_count": 1,
   "id": "7ed7b540",
   "metadata": {},
   "outputs": [],
   "source": [
    "#plot of , model performance on training set and test set vs different sized train set"
   ]
  },
  {
   "cell_type": "code",
   "execution_count": 8,
   "id": "2f86f521",
   "metadata": {},
   "outputs": [],
   "source": [
    "import numpy as np\n",
    "m=100\n",
    "X=6 * np.random.rand(m, 1) - 3\n",
    "y= 0.5 * X**2 + X + 2 + np.random.randn(m, 1)"
   ]
  },
  {
   "cell_type": "code",
   "execution_count": 9,
   "id": "df30a99c",
   "metadata": {},
   "outputs": [],
   "source": [
    "#first we take a linear model"
   ]
  },
  {
   "cell_type": "code",
   "execution_count": 10,
   "id": "3799f21f",
   "metadata": {},
   "outputs": [],
   "source": [
    "from sklearn.linear_model import LinearRegression\n",
    "from sklearn.metrics import mean_squared_error as mse\n",
    "from sklearn.model_selection import train_test_split\n",
    "import matplotlib.pyplot as plt"
   ]
  },
  {
   "cell_type": "code",
   "execution_count": 14,
   "id": "4ab195a0",
   "metadata": {},
   "outputs": [],
   "source": [
    "def learning_curve(model,x,y):\n",
    "    X_train,X_test,y_train,y_test=train_test_split(x,y,test_size=0.2)\n",
    "    trainerror,testerror=[],[]\n",
    "    for i in range(len(X_train)):\n",
    "        model.fit(X_train[:i+1],y_train[:i+1])\n",
    "        y_train_predict=model.predict(X_train[:i+1])\n",
    "        y_test_predict=model.predict(X_test)\n",
    "        trainerror.append(mse(y_train[:i+1],y_train_predict))\n",
    "        testerror.append(mse(y_test,y_test_predict))\n",
    "    plt.plot(np.sqrt(trainerror), \"r-+\", linewidth=2, label=\"train\")\n",
    "    plt.plot(np.sqrt(testerror), \"b-\", linewidth=3, label=\"val\")\n",
    "    plt.legend(loc=\"upper right\", fontsize=14)   # not shown in the book\n",
    "    plt.xlabel(\"Training set size\", fontsize=14) # not shown\n",
    "    plt.ylabel(\"RMSE\", fontsize=14)"
   ]
  },
  {
   "cell_type": "code",
   "execution_count": 15,
   "id": "f7afd42c",
   "metadata": {},
   "outputs": [
    {
     "name": "stdout",
     "output_type": "stream",
     "text": [
      "Saving figure underfitting_learning_curves_plot\n"
     ]
    },
    {
     "data": {
      "image/png": "[encoded data removed]",
      "text/plain": [
       "<Figure size 432x288 with 1 Axes>"
      ]
     },
     "metadata": {
      "needs_background": "light"
     },
     "output_type": "display_data"
    }
   ],
   "source": [
    "linreg=LinearRegression()\n",
    "learning_curve(linreg,X,y)\n",
    "plt.axis([0, 80, 0, 3])                         # not shown in the book\n",
    "save_fig(\"underfitting_learning_curves_plot\")   # not shown\n",
    "plt.show()  "
   ]
  },
  {
   "cell_type": "code",
   "execution_count": 17,
   "id": "5be814ff",
   "metadata": {},
   "outputs": [
    {
     "name": "stdout",
     "output_type": "stream",
     "text": [
      "Saving figure learning_curves_plot\n"
     ]
    },
    {
     "data": {
      "image/png": "[encoded data removed]",
      "text/plain": [
       "<Figure size 432x288 with 1 Axes>"
      ]
     },
     "metadata": {
      "needs_background": "light"
     },
     "output_type": "display_data"
    }
   ],
   "source": [
    "from sklearn.pipeline import Pipeline\n",
    "from sklearn.preprocessing import PolynomialFeatures\n",
    "\n",
    "polynomial_regression = Pipeline([\n",
    "        (\"poly_features\", PolynomialFeatures(degree=10, include_bias=False)),\n",
    "        (\"lin_reg\", LinearRegression()),\n",
    "    ])\n",
    "\n",
    "learning_curve(polynomial_regression, X, y)\n",
    "plt.axis([0, 80, 0, 3])           \n",
    "save_fig(\"learning_curves_plot\") \n",
    "plt.show()    "
   ]
  },
  {
   "cell_type": "code",
   "execution_count": 23,
   "id": "387e556d",
   "metadata": {},
   "outputs": [
    {
     "name": "stdout",
     "output_type": "stream",
     "text": [
      "[Pipeline] ..... (step 1 of 2) Processing poly_features, total=   0.0s\n",
      "[Pipeline] ........... (step 2 of 2) Processing lin_reg, total=   0.0s\n",
      "[Pipeline] ..... (step 1 of 2) Processing poly_features, total=   0.0s\n",
      "[Pipeline] ........... (step 2 of 2) Processing lin_reg, total=   0.0s\n",
      "[Pipeline] ..... (step 1 of 2) Processing poly_features, total=   0.0s\n",
      "[Pipeline] ........... (step 2 of 2) Processing lin_reg, total=   0.0s\n",
      "[Pipeline] ..... (step 1 of 2) Processing poly_features, total=   0.0s\n",
      "[Pipeline] ........... (step 2 of 2) Processing lin_reg, total=   0.0s\n",
      "[Pipeline] ..... (step 1 of 2) Processing poly_features, total=   0.0s\n",
      "[Pipeline] ........... (step 2 of 2) Processing lin_reg, total=   0.0s\n",
      "[Pipeline] ..... (step 1 of 2) Processing poly_features, total=   0.0s\n",
      "[Pipeline] ........... (step 2 of 2) Processing lin_reg, total=   0.0s\n",
      "[Pipeline] ..... (step 1 of 2) Processing poly_features, total=   0.0s\n",
      "[Pipeline] ........... (step 2 of 2) Processing lin_reg, total=   0.0s\n",
      "[Pipeline] ..... (step 1 of 2) Processing poly_features, total=   0.0s\n",
      "[Pipeline] ........... (step 2 of 2) Processing lin_reg, total=   0.0s\n",
      "[Pipeline] ..... (step 1 of 2) Processing poly_features, total=   0.0s\n",
      "[Pipeline] ........... (step 2 of 2) Processing lin_reg, total=   0.0s\n",
      "[Pipeline] ..... (step 1 of 2) Processing poly_features, total=   0.0s\n",
      "[Pipeline] ........... (step 2 of 2) Processing lin_reg, total=   0.0s\n",
      "[Pipeline] ..... (step 1 of 2) Processing poly_features, total=   0.0s\n",
      "[Pipeline] ........... (step 2 of 2) Processing lin_reg, total=   0.0s\n",
      "[Pipeline] ..... (step 1 of 2) Processing poly_features, total=   0.0s\n",
      "[Pipeline] ........... (step 2 of 2) Processing lin_reg, total=   0.0s\n",
      "[Pipeline] ..... (step 1 of 2) Processing poly_features, total=   0.0s\n",
      "[Pipeline] ........... (step 2 of 2) Processing lin_reg, total=   0.0s\n",
      "[Pipeline] ..... (step 1 of 2) Processing poly_features, total=   0.0s\n",
      "[Pipeline] ........... (step 2 of 2) Processing lin_reg, total=   0.0s\n",
      "[Pipeline] ..... (step 1 of 2) Processing poly_features, total=   0.0s\n",
      "[Pipeline] ........... (step 2 of 2) Processing lin_reg, total=   0.0s\n",
      "[Pipeline] ..... (step 1 of 2) Processing poly_features, total=   0.0s\n",
      "[Pipeline] ........... (step 2 of 2) Processing lin_reg, total=   0.0s\n",
      "[Pipeline] ..... (step 1 of 2) Processing poly_features, total=   0.0s\n",
      "[Pipeline] ........... (step 2 of 2) Processing lin_reg, total=   0.0s\n",
      "[Pipeline] ..... (step 1 of 2) Processing poly_features, total=   0.0s\n",
      "[Pipeline] ........... (step 2 of 2) Processing lin_reg, total=   0.0s\n",
      "[Pipeline] ..... (step 1 of 2) Processing poly_features, total=   0.0s\n",
      "[Pipeline] ........... (step 2 of 2) Processing lin_reg, total=   0.0s\n",
      "[Pipeline] ..... (step 1 of 2) Processing poly_features, total=   0.0s\n",
      "[Pipeline] ........... (step 2 of 2) Processing lin_reg, total=   0.0s\n",
      "[Pipeline] ..... (step 1 of 2) Processing poly_features, total=   0.0s\n",
      "[Pipeline] ........... (step 2 of 2) Processing lin_reg, total=   0.0s\n",
      "[Pipeline] ..... (step 1 of 2) Processing poly_features, total=   0.0s\n",
      "[Pipeline] ........... (step 2 of 2) Processing lin_reg, total=   0.0s\n",
      "[Pipeline] ..... (step 1 of 2) Processing poly_features, total=   0.0s\n",
      "[Pipeline] ........... (step 2 of 2) Processing lin_reg, total=   0.0s\n",
      "[Pipeline] ..... (step 1 of 2) Processing poly_features, total=   0.0s\n",
      "[Pipeline] ........... (step 2 of 2) Processing lin_reg, total=   0.0s\n",
      "[Pipeline] ..... (step 1 of 2) Processing poly_features, total=   0.0s\n",
      "[Pipeline] ........... (step 2 of 2) Processing lin_reg, total=   0.0s\n",
      "[Pipeline] ..... (step 1 of 2) Processing poly_features, total=   0.0s\n",
      "[Pipeline] ........... (step 2 of 2) Processing lin_reg, total=   0.0s\n",
      "[Pipeline] ..... (step 1 of 2) Processing poly_features, total=   0.0s\n",
      "[Pipeline] ........... (step 2 of 2) Processing lin_reg, total=   0.0s\n",
      "[Pipeline] ..... (step 1 of 2) Processing poly_features, total=   0.0s\n",
      "[Pipeline] ........... (step 2 of 2) Processing lin_reg, total=   0.0s\n",
      "[Pipeline] ..... (step 1 of 2) Processing poly_features, total=   0.0s\n",
      "[Pipeline] ........... (step 2 of 2) Processing lin_reg, total=   0.0s\n",
      "[Pipeline] ..... (step 1 of 2) Processing poly_features, total=   0.0s\n",
      "[Pipeline] ........... (step 2 of 2) Processing lin_reg, total=   0.0s\n",
      "[Pipeline] ..... (step 1 of 2) Processing poly_features, total=   0.0s\n",
      "[Pipeline] ........... (step 2 of 2) Processing lin_reg, total=   0.0s\n",
      "[Pipeline] ..... (step 1 of 2) Processing poly_features, total=   0.0s\n",
      "[Pipeline] ........... (step 2 of 2) Processing lin_reg, total=   0.0s\n",
      "[Pipeline] ..... (step 1 of 2) Processing poly_features, total=   0.0s\n",
      "[Pipeline] ........... (step 2 of 2) Processing lin_reg, total=   0.0s\n",
      "[Pipeline] ..... (step 1 of 2) Processing poly_features, total=   0.0s\n",
      "[Pipeline] ........... (step 2 of 2) Processing lin_reg, total=   0.0s\n",
      "[Pipeline] ..... (step 1 of 2) Processing poly_features, total=   0.0s\n",
      "[Pipeline] ........... (step 2 of 2) Processing lin_reg, total=   0.0s\n",
      "[Pipeline] ..... (step 1 of 2) Processing poly_features, total=   0.0s\n",
      "[Pipeline] ........... (step 2 of 2) Processing lin_reg, total=   0.0s\n",
      "[Pipeline] ..... (step 1 of 2) Processing poly_features, total=   0.0s\n",
      "[Pipeline] ........... (step 2 of 2) Processing lin_reg, total=   0.0s\n",
      "[Pipeline] ..... (step 1 of 2) Processing poly_features, total=   0.0s\n",
      "[Pipeline] ........... (step 2 of 2) Processing lin_reg, total=   0.0s\n",
      "[Pipeline] ..... (step 1 of 2) Processing poly_features, total=   0.0s\n",
      "[Pipeline] ........... (step 2 of 2) Processing lin_reg, total=   0.0s\n",
      "[Pipeline] ..... (step 1 of 2) Processing poly_features, total=   0.0s\n",
      "[Pipeline] ........... (step 2 of 2) Processing lin_reg, total=   0.0s\n",
      "[Pipeline] ..... (step 1 of 2) Processing poly_features, total=   0.0s\n",
      "[Pipeline] ........... (step 2 of 2) Processing lin_reg, total=   0.0s\n",
      "[Pipeline] ..... (step 1 of 2) Processing poly_features, total=   0.0s\n",
      "[Pipeline] ........... (step 2 of 2) Processing lin_reg, total=   0.0s\n",
      "[Pipeline] ..... (step 1 of 2) Processing poly_features, total=   0.0s\n",
      "[Pipeline] ........... (step 2 of 2) Processing lin_reg, total=   0.0s\n",
      "[Pipeline] ..... (step 1 of 2) Processing poly_features, total=   0.0s\n",
      "[Pipeline] ........... (step 2 of 2) Processing lin_reg, total=   0.0s\n",
      "[Pipeline] ..... (step 1 of 2) Processing poly_features, total=   0.0s\n",
      "[Pipeline] ........... (step 2 of 2) Processing lin_reg, total=   0.0s\n",
      "[Pipeline] ..... (step 1 of 2) Processing poly_features, total=   0.0s\n",
      "[Pipeline] ........... (step 2 of 2) Processing lin_reg, total=   0.0s\n",
      "[Pipeline] ..... (step 1 of 2) Processing poly_features, total=   0.0s\n",
      "[Pipeline] ........... (step 2 of 2) Processing lin_reg, total=   0.0s\n",
      "[Pipeline] ..... (step 1 of 2) Processing poly_features, total=   0.0s\n",
      "[Pipeline] ........... (step 2 of 2) Processing lin_reg, total=   0.0s\n",
      "[Pipeline] ..... (step 1 of 2) Processing poly_features, total=   0.0s\n",
      "[Pipeline] ........... (step 2 of 2) Processing lin_reg, total=   0.0s\n",
      "[Pipeline] ..... (step 1 of 2) Processing poly_features, total=   0.0s\n",
      "[Pipeline] ........... (step 2 of 2) Processing lin_reg, total=   0.0s\n",
      "[Pipeline] ..... (step 1 of 2) Processing poly_features, total=   0.0s\n",
      "[Pipeline] ........... (step 2 of 2) Processing lin_reg, total=   0.0s\n",
      "[Pipeline] ..... (step 1 of 2) Processing poly_features, total=   0.0s\n",
      "[Pipeline] ........... (step 2 of 2) Processing lin_reg, total=   0.0s\n",
      "[Pipeline] ..... (step 1 of 2) Processing poly_features, total=   0.0s\n",
      "[Pipeline] ........... (step 2 of 2) Processing lin_reg, total=   0.0s\n",
      "[Pipeline] ..... (step 1 of 2) Processing poly_features, total=   0.0s\n",
      "[Pipeline] ........... (step 2 of 2) Processing lin_reg, total=   0.0s\n",
      "[Pipeline] ..... (step 1 of 2) Processing poly_features, total=   0.0s\n",
      "[Pipeline] ........... (step 2 of 2) Processing lin_reg, total=   0.0s\n",
      "[Pipeline] ..... (step 1 of 2) Processing poly_features, total=   0.0s\n",
      "[Pipeline] ........... (step 2 of 2) Processing lin_reg, total=   0.0s\n",
      "[Pipeline] ..... (step 1 of 2) Processing poly_features, total=   0.0s\n",
      "[Pipeline] ........... (step 2 of 2) Processing lin_reg, total=   0.0s\n",
      "[Pipeline] ..... (step 1 of 2) Processing poly_features, total=   0.0s\n",
      "[Pipeline] ........... (step 2 of 2) Processing lin_reg, total=   0.0s\n",
      "[Pipeline] ..... (step 1 of 2) Processing poly_features, total=   0.0s\n",
      "[Pipeline] ........... (step 2 of 2) Processing lin_reg, total=   0.0s\n",
      "[Pipeline] ..... (step 1 of 2) Processing poly_features, total=   0.0s\n",
      "[Pipeline] ........... (step 2 of 2) Processing lin_reg, total=   0.0s\n",
      "[Pipeline] ..... (step 1 of 2) Processing poly_features, total=   0.0s\n",
      "[Pipeline] ........... (step 2 of 2) Processing lin_reg, total=   0.0s\n",
      "[Pipeline] ..... (step 1 of 2) Processing poly_features, total=   0.0s\n",
      "[Pipeline] ........... (step 2 of 2) Processing lin_reg, total=   0.0s\n",
      "[Pipeline] ..... (step 1 of 2) Processing poly_features, total=   0.0s\n",
      "[Pipeline] ........... (step 2 of 2) Processing lin_reg, total=   0.0s\n",
      "[Pipeline] ..... (step 1 of 2) Processing poly_features, total=   0.0s\n",
      "[Pipeline] ........... (step 2 of 2) Processing lin_reg, total=   0.0s\n",
      "[Pipeline] ..... (step 1 of 2) Processing poly_features, total=   0.0s\n",
      "[Pipeline] ........... (step 2 of 2) Processing lin_reg, total=   0.0s\n",
      "[Pipeline] ..... (step 1 of 2) Processing poly_features, total=   0.0s\n"
     ]
    },
    {
     "name": "stdout",
     "output_type": "stream",
     "text": [
      "[Pipeline] ........... (step 2 of 2) Processing lin_reg, total=   0.0s\n",
      "[Pipeline] ..... (step 1 of 2) Processing poly_features, total=   0.0s\n",
      "[Pipeline] ........... (step 2 of 2) Processing lin_reg, total=   0.0s\n",
      "[Pipeline] ..... (step 1 of 2) Processing poly_features, total=   0.0s\n",
      "[Pipeline] ........... (step 2 of 2) Processing lin_reg, total=   0.0s\n",
      "[Pipeline] ..... (step 1 of 2) Processing poly_features, total=   0.0s\n",
      "[Pipeline] ........... (step 2 of 2) Processing lin_reg, total=   0.0s\n",
      "[Pipeline] ..... (step 1 of 2) Processing poly_features, total=   0.0s\n",
      "[Pipeline] ........... (step 2 of 2) Processing lin_reg, total=   0.0s\n",
      "[Pipeline] ..... (step 1 of 2) Processing poly_features, total=   0.0s\n",
      "[Pipeline] ........... (step 2 of 2) Processing lin_reg, total=   0.0s\n",
      "[Pipeline] ..... (step 1 of 2) Processing poly_features, total=   0.0s\n",
      "[Pipeline] ........... (step 2 of 2) Processing lin_reg, total=   0.0s\n",
      "[Pipeline] ..... (step 1 of 2) Processing poly_features, total=   0.0s\n",
      "[Pipeline] ........... (step 2 of 2) Processing lin_reg, total=   0.0s\n",
      "[Pipeline] ..... (step 1 of 2) Processing poly_features, total=   0.0s\n",
      "[Pipeline] ........... (step 2 of 2) Processing lin_reg, total=   0.0s\n",
      "[Pipeline] ..... (step 1 of 2) Processing poly_features, total=   0.0s\n",
      "[Pipeline] ........... (step 2 of 2) Processing lin_reg, total=   0.0s\n",
      "[Pipeline] ..... (step 1 of 2) Processing poly_features, total=   0.0s\n",
      "[Pipeline] ........... (step 2 of 2) Processing lin_reg, total=   0.0s\n",
      "[Pipeline] ..... (step 1 of 2) Processing poly_features, total=   0.0s\n",
      "[Pipeline] ........... (step 2 of 2) Processing lin_reg, total=   0.0s\n",
      "[Pipeline] ..... (step 1 of 2) Processing poly_features, total=   0.0s\n",
      "[Pipeline] ........... (step 2 of 2) Processing lin_reg, total=   0.0s\n",
      "[Pipeline] ..... (step 1 of 2) Processing poly_features, total=   0.0s\n",
      "[Pipeline] ........... (step 2 of 2) Processing lin_reg, total=   0.0s\n",
      "[Pipeline] ..... (step 1 of 2) Processing poly_features, total=   0.0s\n",
      "[Pipeline] ........... (step 2 of 2) Processing lin_reg, total=   0.0s\n",
      "Saving figure learning_curves_plot\n"
     ]
    },
    {
     "data": {
      "image/png": "[encoded data removed]",
      "text/plain": [
       "<Figure size 432x288 with 1 Axes>"
      ]
     },
     "metadata": {
      "needs_background": "light"
     },
     "output_type": "display_data"
    }
   ],
   "source": [
    "from sklearn.pipeline import Pipeline\n",
    "from sklearn.preprocessing import PolynomialFeatures\n",
    "\n",
    "polynomial_regression = Pipeline([\n",
    "        (\"poly_features\", PolynomialFeatures(degree=2, include_bias=False)),\n",
    "        (\"lin_reg\", LinearRegression()),\n",
    "    ],verbose=True)\n",
    "\n",
    "learning_curve(polynomial_regression, X, y)\n",
    "plt.axis([0, 80, 0, 3])           \n",
    "save_fig(\"learning_curves_plot\") \n",
    "plt.show()  "
   ]
  },
  {
   "cell_type": "code",
   "execution_count": 24,
   "id": "4a302e02",
   "metadata": {},
   "outputs": [
    {
     "data": {
      "text/plain": [
       "{'memory': None,\n",
       " 'steps': [('poly_features', PolynomialFeatures(include_bias=False)),\n",
       "  ('lin_reg', LinearRegression())],\n",
       " 'verbose': True,\n",
       " 'poly_features': PolynomialFeatures(include_bias=False),\n",
       " 'lin_reg': LinearRegression(),\n",
       " 'poly_features__degree': 2,\n",
       " 'poly_features__include_bias': False,\n",
       " 'poly_features__interaction_only': False,\n",
       " 'poly_features__order': 'C',\n",
       " 'lin_reg__copy_X': True,\n",
       " 'lin_reg__fit_intercept': True,\n",
       " 'lin_reg__n_jobs': None,\n",
       " 'lin_reg__positive': False}"
      ]
     },
     "execution_count": 24,
     "metadata": {},
     "output_type": "execute_result"
    }
   ],
   "source": [
    "polynomial_regression.get_params()"
   ]
  },
  {
   "cell_type": "code",
   "execution_count": 25,
   "id": "d4c0f600",
   "metadata": {},
   "outputs": [
    {
     "data": {
      "text/plain": [
       "{'poly_features': PolynomialFeatures(include_bias=False),\n",
       " 'lin_reg': LinearRegression()}"
      ]
     },
     "execution_count": 25,
     "metadata": {},
     "output_type": "execute_result"
    }
   ],
   "source": [
    "polynomial_regression.named_steps"
   ]
  },
  {
   "cell_type": "markdown",
   "id": "f43b4f1c",
   "metadata": {},
   "source": [
    "### regularised linear models"
   ]
  },
  {
   "cell_type": "code",
   "execution_count": 1,
   "id": "836b33d6",
   "metadata": {},
   "outputs": [],
   "source": [
    "#ridge regression - regularization term--> half the square of l2 norm of theta"
   ]
  },
  {
   "cell_type": "code",
   "execution_count": 10,
   "id": "b935f01a",
   "metadata": {},
   "outputs": [],
   "source": [
    "#using normal  eqn\n",
    "import numpy as np\n",
    "m=100\n",
    "X=6 * np.random.rand(m, 1) - 3\n",
    "y= 0.5 * X**2 + X + 2 + np.random.randn(m, 1)"
   ]
  },
  {
   "cell_type": "code",
   "execution_count": 11,
   "id": "c9c58824",
   "metadata": {},
   "outputs": [],
   "source": [
    "from sklearn.linear_model import Ridge\n",
    "red= Ridge(alpha=1,solver='cholesky')"
   ]
  },
  {
   "cell_type": "code",
   "execution_count": 12,
   "id": "bf1634fa",
   "metadata": {},
   "outputs": [
    {
     "data": {
      "text/html": [
       "<style>#sk-container-id-3 {color: black;background-color: white;}#sk-container-id-3 pre{padding: 0;}#sk-container-id-3 div.sk-toggleable {background-color: white;}#sk-container-id-3 label.sk-toggleable__label {cursor: pointer;display: block;width: 100%;margin-bottom: 0;padding: 0.3em;box-sizing: border-box;text-align: center;}#sk-container-id-3 label.sk-toggleable__label-arrow:before {content: \"▸\";float: left;margin-right: 0.25em;color: #696969;}#sk-container-id-3 label.sk-toggleable__label-arrow:hover:before {color: black;}#sk-container-id-3 div.sk-estimator:hover label.sk-toggleable__label-arrow:before {color: black;}#sk-container-id-3 div.sk-toggleable__content {max-height: 0;max-width: 0;overflow: hidden;text-align: left;background-color: #f0f8ff;}#sk-container-id-3 div.sk-toggleable__content pre {margin: 0.2em;color: black;border-radius: 0.25em;background-color: #f0f8ff;}#sk-container-id-3 input.sk-toggleable__control:checked~div.sk-toggleable__content {max-height: 200px;max-width: 100%;overflow: auto;}#sk-container-id-3 input.sk-toggleable__control:checked~label.sk-toggleable__label-arrow:before {content: \"▾\";}#sk-container-id-3 div.sk-estimator input.sk-toggleable__control:checked~label.sk-toggleable__label {background-color: #d4ebff;}#sk-container-id-3 div.sk-label input.sk-toggleable__control:checked~label.sk-toggleable__label {background-color: #d4ebff;}#sk-container-id-3 input.sk-hidden--visually {border: 0;clip: rect(1px 1px 1px 1px);clip: rect(1px, 1px, 1px, 1px);height: 1px;margin: -1px;overflow: hidden;padding: 0;position: absolute;width: 1px;}#sk-container-id-3 div.sk-estimator {font-family: monospace;background-color: #f0f8ff;border: 1px dotted black;border-radius: 0.25em;box-sizing: border-box;margin-bottom: 0.5em;}#sk-container-id-3 div.sk-estimator:hover {background-color: #d4ebff;}#sk-container-id-3 div.sk-parallel-item::after {content: \"\";width: 100%;border-bottom: 1px solid gray;flex-grow: 1;}#sk-container-id-3 div.sk-label:hover label.sk-toggleable__label {background-color: #d4ebff;}#sk-container-id-3 div.sk-serial::before {content: \"\";position: absolute;border-left: 1px solid gray;box-sizing: border-box;top: 0;bottom: 0;left: 50%;z-index: 0;}#sk-container-id-3 div.sk-serial {display: flex;flex-direction: column;align-items: center;background-color: white;padding-right: 0.2em;padding-left: 0.2em;position: relative;}#sk-container-id-3 div.sk-item {position: relative;z-index: 1;}#sk-container-id-3 div.sk-parallel {display: flex;align-items: stretch;justify-content: center;background-color: white;position: relative;}#sk-container-id-3 div.sk-item::before, #sk-container-id-3 div.sk-parallel-item::before {content: \"\";position: absolute;border-left: 1px solid gray;box-sizing: border-box;top: 0;bottom: 0;left: 50%;z-index: -1;}#sk-container-id-3 div.sk-parallel-item {display: flex;flex-direction: column;z-index: 1;position: relative;background-color: white;}#sk-container-id-3 div.sk-parallel-item:first-child::after {align-self: flex-end;width: 50%;}#sk-container-id-3 div.sk-parallel-item:last-child::after {align-self: flex-start;width: 50%;}#sk-container-id-3 div.sk-parallel-item:only-child::after {width: 0;}#sk-container-id-3 div.sk-dashed-wrapped {border: 1px dashed gray;margin: 0 0.4em 0.5em 0.4em;box-sizing: border-box;padding-bottom: 0.4em;background-color: white;}#sk-container-id-3 div.sk-label label {font-family: monospace;font-weight: bold;display: inline-block;line-height: 1.2em;}#sk-container-id-3 div.sk-label-container {text-align: center;}#sk-container-id-3 div.sk-container {/* jupyter's `normalize.less` sets `[hidden] { display: none; }` but bootstrap.min.css set `[hidden] { display: none !important; }` so we also need the `!important` here to be able to override the default hidden behavior on the sphinx rendered scikit-learn.org. See: https://github.com/scikit-learn/scikit-learn/issues/21755 */display: inline-block !important;position: relative;}#sk-container-id-3 div.sk-text-repr-fallback {display: none;}</style><div id=\"sk-container-id-3\" class=\"sk-top-container\"><div class=\"sk-text-repr-fallback\"><pre>Ridge(alpha=1, solver=&#x27;cholesky&#x27;)</pre><b>In a Jupyter environment, please rerun this cell to show the HTML representation or trust the notebook. <br />On GitHub, the HTML representation is unable to render, please try loading this page with nbviewer.org.</b></div><div class=\"sk-container\" hidden><div class=\"sk-item\"><div class=\"sk-estimator sk-toggleable\"><input class=\"sk-toggleable__control sk-hidden--visually\" id=\"sk-estimator-id-3\" type=\"checkbox\" checked><label for=\"sk-estimator-id-3\" class=\"sk-toggleable__label sk-toggleable__label-arrow\">Ridge</label><div class=\"sk-toggleable__content\"><pre>Ridge(alpha=1, solver=&#x27;cholesky&#x27;)</pre></div></div></div></div></div>"
      ],
      "text/plain": [
       "Ridge(alpha=1, solver='cholesky')"
      ]
     },
     "execution_count": 12,
     "metadata": {},
     "output_type": "execute_result"
    }
   ],
   "source": [
    "red.fit(X,y)"
   ]
  },
  {
   "cell_type": "code",
   "execution_count": 13,
   "id": "951b9e24",
   "metadata": {},
   "outputs": [
    {
     "data": {
      "text/plain": [
       "array([[4.9766332]])"
      ]
     },
     "execution_count": 13,
     "metadata": {},
     "output_type": "execute_result"
    }
   ],
   "source": [
    "red.predict([[1.5]])"
   ]
  },
  {
   "cell_type": "code",
   "execution_count": 14,
   "id": "952c2d55",
   "metadata": {},
   "outputs": [],
   "source": [
    "#using stochastic gradient descent\n",
    "from sklearn.linear_model import SGDRegressor\n",
    "sgd=SGDRegressor(penalty='l2')"
   ]
  },
  {
   "cell_type": "code",
   "execution_count": 15,
   "id": "64b4b2a0",
   "metadata": {},
   "outputs": [
    {
     "data": {
      "text/html": [
       "<style>#sk-container-id-4 {color: black;background-color: white;}#sk-container-id-4 pre{padding: 0;}#sk-container-id-4 div.sk-toggleable {background-color: white;}#sk-container-id-4 label.sk-toggleable__label {cursor: pointer;display: block;width: 100%;margin-bottom: 0;padding: 0.3em;box-sizing: border-box;text-align: center;}#sk-container-id-4 label.sk-toggleable__label-arrow:before {content: \"▸\";float: left;margin-right: 0.25em;color: #696969;}#sk-container-id-4 label.sk-toggleable__label-arrow:hover:before {color: black;}#sk-container-id-4 div.sk-estimator:hover label.sk-toggleable__label-arrow:before {color: black;}#sk-container-id-4 div.sk-toggleable__content {max-height: 0;max-width: 0;overflow: hidden;text-align: left;background-color: #f0f8ff;}#sk-container-id-4 div.sk-toggleable__content pre {margin: 0.2em;color: black;border-radius: 0.25em;background-color: #f0f8ff;}#sk-container-id-4 input.sk-toggleable__control:checked~div.sk-toggleable__content {max-height: 200px;max-width: 100%;overflow: auto;}#sk-container-id-4 input.sk-toggleable__control:checked~label.sk-toggleable__label-arrow:before {content: \"▾\";}#sk-container-id-4 div.sk-estimator input.sk-toggleable__control:checked~label.sk-toggleable__label {background-color: #d4ebff;}#sk-container-id-4 div.sk-label input.sk-toggleable__control:checked~label.sk-toggleable__label {background-color: #d4ebff;}#sk-container-id-4 input.sk-hidden--visually {border: 0;clip: rect(1px 1px 1px 1px);clip: rect(1px, 1px, 1px, 1px);height: 1px;margin: -1px;overflow: hidden;padding: 0;position: absolute;width: 1px;}#sk-container-id-4 div.sk-estimator {font-family: monospace;background-color: #f0f8ff;border: 1px dotted black;border-radius: 0.25em;box-sizing: border-box;margin-bottom: 0.5em;}#sk-container-id-4 div.sk-estimator:hover {background-color: #d4ebff;}#sk-container-id-4 div.sk-parallel-item::after {content: \"\";width: 100%;border-bottom: 1px solid gray;flex-grow: 1;}#sk-container-id-4 div.sk-label:hover label.sk-toggleable__label {background-color: #d4ebff;}#sk-container-id-4 div.sk-serial::before {content: \"\";position: absolute;border-left: 1px solid gray;box-sizing: border-box;top: 0;bottom: 0;left: 50%;z-index: 0;}#sk-container-id-4 div.sk-serial {display: flex;flex-direction: column;align-items: center;background-color: white;padding-right: 0.2em;padding-left: 0.2em;position: relative;}#sk-container-id-4 div.sk-item {position: relative;z-index: 1;}#sk-container-id-4 div.sk-parallel {display: flex;align-items: stretch;justify-content: center;background-color: white;position: relative;}#sk-container-id-4 div.sk-item::before, #sk-container-id-4 div.sk-parallel-item::before {content: \"\";position: absolute;border-left: 1px solid gray;box-sizing: border-box;top: 0;bottom: 0;left: 50%;z-index: -1;}#sk-container-id-4 div.sk-parallel-item {display: flex;flex-direction: column;z-index: 1;position: relative;background-color: white;}#sk-container-id-4 div.sk-parallel-item:first-child::after {align-self: flex-end;width: 50%;}#sk-container-id-4 div.sk-parallel-item:last-child::after {align-self: flex-start;width: 50%;}#sk-container-id-4 div.sk-parallel-item:only-child::after {width: 0;}#sk-container-id-4 div.sk-dashed-wrapped {border: 1px dashed gray;margin: 0 0.4em 0.5em 0.4em;box-sizing: border-box;padding-bottom: 0.4em;background-color: white;}#sk-container-id-4 div.sk-label label {font-family: monospace;font-weight: bold;display: inline-block;line-height: 1.2em;}#sk-container-id-4 div.sk-label-container {text-align: center;}#sk-container-id-4 div.sk-container {/* jupyter's `normalize.less` sets `[hidden] { display: none; }` but bootstrap.min.css set `[hidden] { display: none !important; }` so we also need the `!important` here to be able to override the default hidden behavior on the sphinx rendered scikit-learn.org. See: https://github.com/scikit-learn/scikit-learn/issues/21755 */display: inline-block !important;position: relative;}#sk-container-id-4 div.sk-text-repr-fallback {display: none;}</style><div id=\"sk-container-id-4\" class=\"sk-top-container\"><div class=\"sk-text-repr-fallback\"><pre>SGDRegressor()</pre><b>In a Jupyter environment, please rerun this cell to show the HTML representation or trust the notebook. <br />On GitHub, the HTML representation is unable to render, please try loading this page with nbviewer.org.</b></div><div class=\"sk-container\" hidden><div class=\"sk-item\"><div class=\"sk-estimator sk-toggleable\"><input class=\"sk-toggleable__control sk-hidden--visually\" id=\"sk-estimator-id-4\" type=\"checkbox\" checked><label for=\"sk-estimator-id-4\" class=\"sk-toggleable__label sk-toggleable__label-arrow\">SGDRegressor</label><div class=\"sk-toggleable__content\"><pre>SGDRegressor()</pre></div></div></div></div></div>"
      ],
      "text/plain": [
       "SGDRegressor()"
      ]
     },
     "execution_count": 15,
     "metadata": {},
     "output_type": "execute_result"
    }
   ],
   "source": [
    "sgd.fit(X,y.ravel())"
   ]
  },
  {
   "cell_type": "code",
   "execution_count": 16,
   "id": "dd832cd9",
   "metadata": {},
   "outputs": [
    {
     "data": {
      "text/plain": [
       "array([4.95916294])"
      ]
     },
     "execution_count": 16,
     "metadata": {},
     "output_type": "execute_result"
    }
   ],
   "source": [
    "sgd.predict([[1.5]])"
   ]
  },
  {
   "cell_type": "code",
   "execution_count": 19,
   "id": "bb3a8c23",
   "metadata": {},
   "outputs": [],
   "source": [
    "from sklearn.linear_model import Lasso\n",
    "ls=Lasso(alpha=0.1)"
   ]
  },
  {
   "cell_type": "code",
   "execution_count": 20,
   "id": "7f9c3e3e",
   "metadata": {},
   "outputs": [
    {
     "data": {
      "text/html": [
       "<style>#sk-container-id-5 {color: black;background-color: white;}#sk-container-id-5 pre{padding: 0;}#sk-container-id-5 div.sk-toggleable {background-color: white;}#sk-container-id-5 label.sk-toggleable__label {cursor: pointer;display: block;width: 100%;margin-bottom: 0;padding: 0.3em;box-sizing: border-box;text-align: center;}#sk-container-id-5 label.sk-toggleable__label-arrow:before {content: \"▸\";float: left;margin-right: 0.25em;color: #696969;}#sk-container-id-5 label.sk-toggleable__label-arrow:hover:before {color: black;}#sk-container-id-5 div.sk-estimator:hover label.sk-toggleable__label-arrow:before {color: black;}#sk-container-id-5 div.sk-toggleable__content {max-height: 0;max-width: 0;overflow: hidden;text-align: left;background-color: #f0f8ff;}#sk-container-id-5 div.sk-toggleable__content pre {margin: 0.2em;color: black;border-radius: 0.25em;background-color: #f0f8ff;}#sk-container-id-5 input.sk-toggleable__control:checked~div.sk-toggleable__content {max-height: 200px;max-width: 100%;overflow: auto;}#sk-container-id-5 input.sk-toggleable__control:checked~label.sk-toggleable__label-arrow:before {content: \"▾\";}#sk-container-id-5 div.sk-estimator input.sk-toggleable__control:checked~label.sk-toggleable__label {background-color: #d4ebff;}#sk-container-id-5 div.sk-label input.sk-toggleable__control:checked~label.sk-toggleable__label {background-color: #d4ebff;}#sk-container-id-5 input.sk-hidden--visually {border: 0;clip: rect(1px 1px 1px 1px);clip: rect(1px, 1px, 1px, 1px);height: 1px;margin: -1px;overflow: hidden;padding: 0;position: absolute;width: 1px;}#sk-container-id-5 div.sk-estimator {font-family: monospace;background-color: #f0f8ff;border: 1px dotted black;border-radius: 0.25em;box-sizing: border-box;margin-bottom: 0.5em;}#sk-container-id-5 div.sk-estimator:hover {background-color: #d4ebff;}#sk-container-id-5 div.sk-parallel-item::after {content: \"\";width: 100%;border-bottom: 1px solid gray;flex-grow: 1;}#sk-container-id-5 div.sk-label:hover label.sk-toggleable__label {background-color: #d4ebff;}#sk-container-id-5 div.sk-serial::before {content: \"\";position: absolute;border-left: 1px solid gray;box-sizing: border-box;top: 0;bottom: 0;left: 50%;z-index: 0;}#sk-container-id-5 div.sk-serial {display: flex;flex-direction: column;align-items: center;background-color: white;padding-right: 0.2em;padding-left: 0.2em;position: relative;}#sk-container-id-5 div.sk-item {position: relative;z-index: 1;}#sk-container-id-5 div.sk-parallel {display: flex;align-items: stretch;justify-content: center;background-color: white;position: relative;}#sk-container-id-5 div.sk-item::before, #sk-container-id-5 div.sk-parallel-item::before {content: \"\";position: absolute;border-left: 1px solid gray;box-sizing: border-box;top: 0;bottom: 0;left: 50%;z-index: -1;}#sk-container-id-5 div.sk-parallel-item {display: flex;flex-direction: column;z-index: 1;position: relative;background-color: white;}#sk-container-id-5 div.sk-parallel-item:first-child::after {align-self: flex-end;width: 50%;}#sk-container-id-5 div.sk-parallel-item:last-child::after {align-self: flex-start;width: 50%;}#sk-container-id-5 div.sk-parallel-item:only-child::after {width: 0;}#sk-container-id-5 div.sk-dashed-wrapped {border: 1px dashed gray;margin: 0 0.4em 0.5em 0.4em;box-sizing: border-box;padding-bottom: 0.4em;background-color: white;}#sk-container-id-5 div.sk-label label {font-family: monospace;font-weight: bold;display: inline-block;line-height: 1.2em;}#sk-container-id-5 div.sk-label-container {text-align: center;}#sk-container-id-5 div.sk-container {/* jupyter's `normalize.less` sets `[hidden] { display: none; }` but bootstrap.min.css set `[hidden] { display: none !important; }` so we also need the `!important` here to be able to override the default hidden behavior on the sphinx rendered scikit-learn.org. See: https://github.com/scikit-learn/scikit-learn/issues/21755 */display: inline-block !important;position: relative;}#sk-container-id-5 div.sk-text-repr-fallback {display: none;}</style><div id=\"sk-container-id-5\" class=\"sk-top-container\"><div class=\"sk-text-repr-fallback\"><pre>Lasso(alpha=0.1)</pre><b>In a Jupyter environment, please rerun this cell to show the HTML representation or trust the notebook. <br />On GitHub, the HTML representation is unable to render, please try loading this page with nbviewer.org.</b></div><div class=\"sk-container\" hidden><div class=\"sk-item\"><div class=\"sk-estimator sk-toggleable\"><input class=\"sk-toggleable__control sk-hidden--visually\" id=\"sk-estimator-id-5\" type=\"checkbox\" checked><label for=\"sk-estimator-id-5\" class=\"sk-toggleable__label sk-toggleable__label-arrow\">Lasso</label><div class=\"sk-toggleable__content\"><pre>Lasso(alpha=0.1)</pre></div></div></div></div></div>"
      ],
      "text/plain": [
       "Lasso(alpha=0.1)"
      ]
     },
     "execution_count": 20,
     "metadata": {},
     "output_type": "execute_result"
    }
   ],
   "source": [
    "ls.fit(X,y)"
   ]
  },
  {
   "cell_type": "code",
   "execution_count": 21,
   "id": "eb3465c4",
   "metadata": {},
   "outputs": [
    {
     "data": {
      "text/plain": [
       "array([4.93278543])"
      ]
     },
     "execution_count": 21,
     "metadata": {},
     "output_type": "execute_result"
    }
   ],
   "source": [
    "ls.predict([[1.5]])"
   ]
  },
  {
   "cell_type": "code",
   "execution_count": 22,
   "id": "6cf8529e",
   "metadata": {},
   "outputs": [],
   "source": [
    "from sklearn.linear_model import ElasticNet\n",
    "en=ElasticNet(alpha=0.1,l1_ratio=0.5)"
   ]
  },
  {
   "cell_type": "code",
   "execution_count": 23,
   "id": "59e8a2b0",
   "metadata": {},
   "outputs": [
    {
     "data": {
      "text/html": [
       "<style>#sk-container-id-6 {color: black;background-color: white;}#sk-container-id-6 pre{padding: 0;}#sk-container-id-6 div.sk-toggleable {background-color: white;}#sk-container-id-6 label.sk-toggleable__label {cursor: pointer;display: block;width: 100%;margin-bottom: 0;padding: 0.3em;box-sizing: border-box;text-align: center;}#sk-container-id-6 label.sk-toggleable__label-arrow:before {content: \"▸\";float: left;margin-right: 0.25em;color: #696969;}#sk-container-id-6 label.sk-toggleable__label-arrow:hover:before {color: black;}#sk-container-id-6 div.sk-estimator:hover label.sk-toggleable__label-arrow:before {color: black;}#sk-container-id-6 div.sk-toggleable__content {max-height: 0;max-width: 0;overflow: hidden;text-align: left;background-color: #f0f8ff;}#sk-container-id-6 div.sk-toggleable__content pre {margin: 0.2em;color: black;border-radius: 0.25em;background-color: #f0f8ff;}#sk-container-id-6 input.sk-toggleable__control:checked~div.sk-toggleable__content {max-height: 200px;max-width: 100%;overflow: auto;}#sk-container-id-6 input.sk-toggleable__control:checked~label.sk-toggleable__label-arrow:before {content: \"▾\";}#sk-container-id-6 div.sk-estimator input.sk-toggleable__control:checked~label.sk-toggleable__label {background-color: #d4ebff;}#sk-container-id-6 div.sk-label input.sk-toggleable__control:checked~label.sk-toggleable__label {background-color: #d4ebff;}#sk-container-id-6 input.sk-hidden--visually {border: 0;clip: rect(1px 1px 1px 1px);clip: rect(1px, 1px, 1px, 1px);height: 1px;margin: -1px;overflow: hidden;padding: 0;position: absolute;width: 1px;}#sk-container-id-6 div.sk-estimator {font-family: monospace;background-color: #f0f8ff;border: 1px dotted black;border-radius: 0.25em;box-sizing: border-box;margin-bottom: 0.5em;}#sk-container-id-6 div.sk-estimator:hover {background-color: #d4ebff;}#sk-container-id-6 div.sk-parallel-item::after {content: \"\";width: 100%;border-bottom: 1px solid gray;flex-grow: 1;}#sk-container-id-6 div.sk-label:hover label.sk-toggleable__label {background-color: #d4ebff;}#sk-container-id-6 div.sk-serial::before {content: \"\";position: absolute;border-left: 1px solid gray;box-sizing: border-box;top: 0;bottom: 0;left: 50%;z-index: 0;}#sk-container-id-6 div.sk-serial {display: flex;flex-direction: column;align-items: center;background-color: white;padding-right: 0.2em;padding-left: 0.2em;position: relative;}#sk-container-id-6 div.sk-item {position: relative;z-index: 1;}#sk-container-id-6 div.sk-parallel {display: flex;align-items: stretch;justify-content: center;background-color: white;position: relative;}#sk-container-id-6 div.sk-item::before, #sk-container-id-6 div.sk-parallel-item::before {content: \"\";position: absolute;border-left: 1px solid gray;box-sizing: border-box;top: 0;bottom: 0;left: 50%;z-index: -1;}#sk-container-id-6 div.sk-parallel-item {display: flex;flex-direction: column;z-index: 1;position: relative;background-color: white;}#sk-container-id-6 div.sk-parallel-item:first-child::after {align-self: flex-end;width: 50%;}#sk-container-id-6 div.sk-parallel-item:last-child::after {align-self: flex-start;width: 50%;}#sk-container-id-6 div.sk-parallel-item:only-child::after {width: 0;}#sk-container-id-6 div.sk-dashed-wrapped {border: 1px dashed gray;margin: 0 0.4em 0.5em 0.4em;box-sizing: border-box;padding-bottom: 0.4em;background-color: white;}#sk-container-id-6 div.sk-label label {font-family: monospace;font-weight: bold;display: inline-block;line-height: 1.2em;}#sk-container-id-6 div.sk-label-container {text-align: center;}#sk-container-id-6 div.sk-container {/* jupyter's `normalize.less` sets `[hidden] { display: none; }` but bootstrap.min.css set `[hidden] { display: none !important; }` so we also need the `!important` here to be able to override the default hidden behavior on the sphinx rendered scikit-learn.org. See: https://github.com/scikit-learn/scikit-learn/issues/21755 */display: inline-block !important;position: relative;}#sk-container-id-6 div.sk-text-repr-fallback {display: none;}</style><div id=\"sk-container-id-6\" class=\"sk-top-container\"><div class=\"sk-text-repr-fallback\"><pre>ElasticNet(alpha=0.1)</pre><b>In a Jupyter environment, please rerun this cell to show the HTML representation or trust the notebook. <br />On GitHub, the HTML representation is unable to render, please try loading this page with nbviewer.org.</b></div><div class=\"sk-container\" hidden><div class=\"sk-item\"><div class=\"sk-estimator sk-toggleable\"><input class=\"sk-toggleable__control sk-hidden--visually\" id=\"sk-estimator-id-6\" type=\"checkbox\" checked><label for=\"sk-estimator-id-6\" class=\"sk-toggleable__label sk-toggleable__label-arrow\">ElasticNet</label><div class=\"sk-toggleable__content\"><pre>ElasticNet(alpha=0.1)</pre></div></div></div></div></div>"
      ],
      "text/plain": [
       "ElasticNet(alpha=0.1)"
      ]
     },
     "execution_count": 23,
     "metadata": {},
     "output_type": "execute_result"
    }
   ],
   "source": [
    "en.fit(X,y)"
   ]
  },
  {
   "cell_type": "code",
   "execution_count": 24,
   "id": "b66ab1db",
   "metadata": {},
   "outputs": [
    {
     "data": {
      "text/plain": [
       "array([4.93493582])"
      ]
     },
     "execution_count": 24,
     "metadata": {},
     "output_type": "execute_result"
    }
   ],
   "source": [
    "en.predict([[1.5]])"
   ]
  },
  {
   "cell_type": "code",
   "execution_count": 25,
   "id": "1631428e",
   "metadata": {},
   "outputs": [],
   "source": [
    "from sklearn.preprocessing import PolynomialFeatures\n",
    "from sklearn.linear_model import LinearRegression\n",
    "polyfeat=PolynomialFeatures(degree=2,include_bias=False)"
   ]
  },
  {
   "cell_type": "code",
   "execution_count": 26,
   "id": "8d626ddc",
   "metadata": {},
   "outputs": [],
   "source": [
    "Xpol=polyfeat.fit_transform(X)"
   ]
  },
  {
   "cell_type": "code",
   "execution_count": 28,
   "id": "0a1c05e6",
   "metadata": {},
   "outputs": [
    {
     "data": {
      "text/plain": [
       "array([-2.55629629,  6.5346507 ])"
      ]
     },
     "execution_count": 28,
     "metadata": {},
     "output_type": "execute_result"
    }
   ],
   "source": [
    "Xpol[0]"
   ]
  },
  {
   "cell_type": "code",
   "execution_count": 29,
   "id": "103caf6e",
   "metadata": {},
   "outputs": [
    {
     "data": {
      "text/html": [
       "<style>#sk-container-id-7 {color: black;background-color: white;}#sk-container-id-7 pre{padding: 0;}#sk-container-id-7 div.sk-toggleable {background-color: white;}#sk-container-id-7 label.sk-toggleable__label {cursor: pointer;display: block;width: 100%;margin-bottom: 0;padding: 0.3em;box-sizing: border-box;text-align: center;}#sk-container-id-7 label.sk-toggleable__label-arrow:before {content: \"▸\";float: left;margin-right: 0.25em;color: #696969;}#sk-container-id-7 label.sk-toggleable__label-arrow:hover:before {color: black;}#sk-container-id-7 div.sk-estimator:hover label.sk-toggleable__label-arrow:before {color: black;}#sk-container-id-7 div.sk-toggleable__content {max-height: 0;max-width: 0;overflow: hidden;text-align: left;background-color: #f0f8ff;}#sk-container-id-7 div.sk-toggleable__content pre {margin: 0.2em;color: black;border-radius: 0.25em;background-color: #f0f8ff;}#sk-container-id-7 input.sk-toggleable__control:checked~div.sk-toggleable__content {max-height: 200px;max-width: 100%;overflow: auto;}#sk-container-id-7 input.sk-toggleable__control:checked~label.sk-toggleable__label-arrow:before {content: \"▾\";}#sk-container-id-7 div.sk-estimator input.sk-toggleable__control:checked~label.sk-toggleable__label {background-color: #d4ebff;}#sk-container-id-7 div.sk-label input.sk-toggleable__control:checked~label.sk-toggleable__label {background-color: #d4ebff;}#sk-container-id-7 input.sk-hidden--visually {border: 0;clip: rect(1px 1px 1px 1px);clip: rect(1px, 1px, 1px, 1px);height: 1px;margin: -1px;overflow: hidden;padding: 0;position: absolute;width: 1px;}#sk-container-id-7 div.sk-estimator {font-family: monospace;background-color: #f0f8ff;border: 1px dotted black;border-radius: 0.25em;box-sizing: border-box;margin-bottom: 0.5em;}#sk-container-id-7 div.sk-estimator:hover {background-color: #d4ebff;}#sk-container-id-7 div.sk-parallel-item::after {content: \"\";width: 100%;border-bottom: 1px solid gray;flex-grow: 1;}#sk-container-id-7 div.sk-label:hover label.sk-toggleable__label {background-color: #d4ebff;}#sk-container-id-7 div.sk-serial::before {content: \"\";position: absolute;border-left: 1px solid gray;box-sizing: border-box;top: 0;bottom: 0;left: 50%;z-index: 0;}#sk-container-id-7 div.sk-serial {display: flex;flex-direction: column;align-items: center;background-color: white;padding-right: 0.2em;padding-left: 0.2em;position: relative;}#sk-container-id-7 div.sk-item {position: relative;z-index: 1;}#sk-container-id-7 div.sk-parallel {display: flex;align-items: stretch;justify-content: center;background-color: white;position: relative;}#sk-container-id-7 div.sk-item::before, #sk-container-id-7 div.sk-parallel-item::before {content: \"\";position: absolute;border-left: 1px solid gray;box-sizing: border-box;top: 0;bottom: 0;left: 50%;z-index: -1;}#sk-container-id-7 div.sk-parallel-item {display: flex;flex-direction: column;z-index: 1;position: relative;background-color: white;}#sk-container-id-7 div.sk-parallel-item:first-child::after {align-self: flex-end;width: 50%;}#sk-container-id-7 div.sk-parallel-item:last-child::after {align-self: flex-start;width: 50%;}#sk-container-id-7 div.sk-parallel-item:only-child::after {width: 0;}#sk-container-id-7 div.sk-dashed-wrapped {border: 1px dashed gray;margin: 0 0.4em 0.5em 0.4em;box-sizing: border-box;padding-bottom: 0.4em;background-color: white;}#sk-container-id-7 div.sk-label label {font-family: monospace;font-weight: bold;display: inline-block;line-height: 1.2em;}#sk-container-id-7 div.sk-label-container {text-align: center;}#sk-container-id-7 div.sk-container {/* jupyter's `normalize.less` sets `[hidden] { display: none; }` but bootstrap.min.css set `[hidden] { display: none !important; }` so we also need the `!important` here to be able to override the default hidden behavior on the sphinx rendered scikit-learn.org. See: https://github.com/scikit-learn/scikit-learn/issues/21755 */display: inline-block !important;position: relative;}#sk-container-id-7 div.sk-text-repr-fallback {display: none;}</style><div id=\"sk-container-id-7\" class=\"sk-top-container\"><div class=\"sk-text-repr-fallback\"><pre>LinearRegression()</pre><b>In a Jupyter environment, please rerun this cell to show the HTML representation or trust the notebook. <br />On GitHub, the HTML representation is unable to render, please try loading this page with nbviewer.org.</b></div><div class=\"sk-container\" hidden><div class=\"sk-item\"><div class=\"sk-estimator sk-toggleable\"><input class=\"sk-toggleable__control sk-hidden--visually\" id=\"sk-estimator-id-7\" type=\"checkbox\" checked><label for=\"sk-estimator-id-7\" class=\"sk-toggleable__label sk-toggleable__label-arrow\">LinearRegression</label><div class=\"sk-toggleable__content\"><pre>LinearRegression()</pre></div></div></div></div></div>"
      ],
      "text/plain": [
       "LinearRegression()"
      ]
     },
     "execution_count": 29,
     "metadata": {},
     "output_type": "execute_result"
    }
   ],
   "source": [
    "linreg=LinearRegression()\n",
    "linreg.fit(Xpol,y)"
   ]
  },
  {
   "cell_type": "code",
   "execution_count": 33,
   "id": "06631eb2",
   "metadata": {},
   "outputs": [
    {
     "data": {
      "text/plain": [
       "array([1.90924193])"
      ]
     },
     "execution_count": 33,
     "metadata": {},
     "output_type": "execute_result"
    }
   ],
   "source": [
    "linreg.intercept_"
   ]
  },
  {
   "cell_type": "code",
   "execution_count": 34,
   "id": "f43e8210",
   "metadata": {},
   "outputs": [
    {
     "data": {
      "text/plain": [
       "array([[1.05558497, 0.51787839]])"
      ]
     },
     "execution_count": 34,
     "metadata": {},
     "output_type": "execute_result"
    }
   ],
   "source": [
    "linreg.coef_"
   ]
  },
  {
   "cell_type": "code",
   "execution_count": 35,
   "id": "5ff79c71",
   "metadata": {},
   "outputs": [
    {
     "data": {
      "text/plain": [
       "array([[4.65784577]])"
      ]
     },
     "execution_count": 35,
     "metadata": {},
     "output_type": "execute_result"
    }
   ],
   "source": [
    "linreg.predict([[1.5,2.25]])"
   ]
  },
  {
   "cell_type": "markdown",
   "id": "68dee68c",
   "metadata": {},
   "source": [
    "## Logistic regression"
   ]
  },
  {
   "cell_type": "code",
   "execution_count": 36,
   "id": "5266eaa3",
   "metadata": {},
   "outputs": [],
   "source": [
    "from sklearn.datasets import load_iris\n",
    "iris=load_iris()"
   ]
  },
  {
   "cell_type": "code",
   "execution_count": 39,
   "id": "badf4c5b",
   "metadata": {},
   "outputs": [
    {
     "data": {
      "text/plain": [
       "dict_keys(['data', 'target', 'frame', 'target_names', 'DESCR', 'feature_names', 'filename', 'data_module'])"
      ]
     },
     "execution_count": 39,
     "metadata": {},
     "output_type": "execute_result"
    }
   ],
   "source": [
    "iris.keys()"
   ]
  },
  {
   "cell_type": "code",
   "execution_count": 41,
   "id": "fce8428b",
   "metadata": {},
   "outputs": [
    {
     "data": {
      "text/plain": [
       "array([[5.1, 3.5, 1.4, 0.2],\n",
       "       [4.9, 3. , 1.4, 0.2],\n",
       "       [4.7, 3.2, 1.3, 0.2],\n",
       "       [4.6, 3.1, 1.5, 0.2],\n",
       "       [5. , 3.6, 1.4, 0.2]])"
      ]
     },
     "execution_count": 41,
     "metadata": {},
     "output_type": "execute_result"
    }
   ],
   "source": [
    "iris.data[:5]"
   ]
  },
  {
   "cell_type": "code",
   "execution_count": 42,
   "id": "2997d1ba",
   "metadata": {},
   "outputs": [
    {
     "data": {
      "text/plain": [
       "array([0, 0, 0, 0, 0, 0, 0, 0, 0, 0, 0, 0, 0, 0, 0, 0, 0, 0, 0, 0, 0, 0,\n",
       "       0, 0, 0, 0, 0, 0, 0, 0, 0, 0, 0, 0, 0, 0, 0, 0, 0, 0, 0, 0, 0, 0,\n",
       "       0, 0, 0, 0, 0, 0, 1, 1, 1, 1, 1, 1, 1, 1, 1, 1, 1, 1, 1, 1, 1, 1,\n",
       "       1, 1, 1, 1, 1, 1, 1, 1, 1, 1, 1, 1, 1, 1, 1, 1, 1, 1, 1, 1, 1, 1,\n",
       "       1, 1, 1, 1, 1, 1, 1, 1, 1, 1, 1, 1, 2, 2, 2, 2, 2, 2, 2, 2, 2, 2,\n",
       "       2, 2, 2, 2, 2, 2, 2, 2, 2, 2, 2, 2, 2, 2, 2, 2, 2, 2, 2, 2, 2, 2,\n",
       "       2, 2, 2, 2, 2, 2, 2, 2, 2, 2, 2, 2, 2, 2, 2, 2, 2, 2])"
      ]
     },
     "execution_count": 42,
     "metadata": {},
     "output_type": "execute_result"
    }
   ],
   "source": [
    "iris.target"
   ]
  },
  {
   "cell_type": "code",
   "execution_count": 43,
   "id": "f7891b33",
   "metadata": {},
   "outputs": [
    {
     "data": {
      "text/plain": [
       "150"
      ]
     },
     "execution_count": 43,
     "metadata": {},
     "output_type": "execute_result"
    }
   ],
   "source": [
    "len(iris.target)"
   ]
  },
  {
   "cell_type": "code",
   "execution_count": 47,
   "id": "4762bf3d",
   "metadata": {},
   "outputs": [
    {
     "name": "stdout",
     "output_type": "stream",
     "text": [
      ".. _iris_dataset:\n",
      "\n",
      "Iris plants dataset\n",
      "--------------------\n",
      "\n",
      "**Data Set Characteristics:**\n",
      "\n",
      "    :Number of Instances: 150 (50 in each of three classes)\n",
      "    :Number of Attributes: 4 numeric, predictive attributes and the class\n",
      "    :Attribute Information:\n",
      "        - sepal length in cm\n",
      "        - sepal width in cm\n",
      "        - petal length in cm\n",
      "        - petal width in cm\n",
      "        - class:\n",
      "                - Iris-Setosa\n",
      "                - Iris-Versicolour\n",
      "                - Iris-Virginica\n",
      "                \n",
      "    :Summary Statistics:\n",
      "\n",
      "    ============== ==== ==== ======= ===== ====================\n",
      "                    Min  Max   Mean    SD   Class Correlation\n",
      "    ============== ==== ==== ======= ===== ====================\n",
      "    sepal length:   4.3  7.9   5.84   0.83    0.7826\n",
      "    sepal width:    2.0  4.4   3.05   0.43   -0.4194\n",
      "    petal length:   1.0  6.9   3.76   1.76    0.9490  (high!)\n",
      "    petal width:    0.1  2.5   1.20   0.76    0.9565  (high!)\n",
      "    ============== ==== ==== ======= ===== ====================\n",
      "\n",
      "    :Missing Attribute Values: None\n",
      "    :Class Distribution: 33.3% for each of 3 classes.\n",
      "    :Creator: R.A. Fisher\n",
      "    :Donor: Michael Marshall (MARSHALL%PLU@io.arc.nasa.gov)\n",
      "    :Date: July, 1988\n",
      "\n",
      "The famous Iris database, first used by Sir R.A. Fisher. The dataset is taken\n",
      "from Fisher's paper. Note that it's the same as in R, but not as in the UCI\n",
      "Machine Learning Repository, which has two wrong data points.\n",
      "\n",
      "This is perhaps the best known database to be found in the\n",
      "pattern recognition literature.  Fisher's paper is a classic in the field and\n",
      "is referenced frequently to this day.  (See Duda & Hart, for example.)  The\n",
      "data set contains 3 classes of 50 instances each, where each class refers to a\n",
      "type of iris plant.  One class is linearly separable from the other 2; the\n",
      "latter are NOT linearly separable from each other.\n",
      "\n",
      ".. topic:: References\n",
      "\n",
      "   - Fisher, R.A. \"The use of multiple measurements in taxonomic problems\"\n",
      "     Annual Eugenics, 7, Part II, 179-188 (1936); also in \"Contributions to\n",
      "     Mathematical Statistics\" (John Wiley, NY, 1950).\n",
      "   - Duda, R.O., & Hart, P.E. (1973) Pattern Classification and Scene Analysis.\n",
      "     (Q327.D83) John Wiley & Sons.  ISBN 0-471-22361-1.  See page 218.\n",
      "   - Dasarathy, B.V. (1980) \"Nosing Around the Neighborhood: A New System\n",
      "     Structure and Classification Rule for Recognition in Partially Exposed\n",
      "     Environments\".  IEEE Transactions on Pattern Analysis and Machine\n",
      "     Intelligence, Vol. PAMI-2, No. 1, 67-71.\n",
      "   - Gates, G.W. (1972) \"The Reduced Nearest Neighbor Rule\".  IEEE Transactions\n",
      "     on Information Theory, May 1972, 431-433.\n",
      "   - See also: 1988 MLC Proceedings, 54-64.  Cheeseman et al\"s AUTOCLASS II\n",
      "     conceptual clustering system finds 3 classes in the data.\n",
      "   - Many, many more ...\n"
     ]
    }
   ],
   "source": [
    "print(iris.DESCR)"
   ]
  },
  {
   "cell_type": "code",
   "execution_count": 52,
   "id": "7d2278d8",
   "metadata": {},
   "outputs": [],
   "source": [
    "X=iris.data[:,3:]#petal length"
   ]
  },
  {
   "cell_type": "code",
   "execution_count": 53,
   "id": "00bc58a8",
   "metadata": {},
   "outputs": [
    {
     "data": {
      "text/plain": [
       "array([[0.2],\n",
       "       [0.2],\n",
       "       [0.2],\n",
       "       [0.2],\n",
       "       [0.2],\n",
       "       [0.4],\n",
       "       [0.3]])"
      ]
     },
     "execution_count": 53,
     "metadata": {},
     "output_type": "execute_result"
    }
   ],
   "source": [
    "X[:7]"
   ]
  },
  {
   "cell_type": "code",
   "execution_count": 57,
   "id": "338c5826",
   "metadata": {},
   "outputs": [],
   "source": [
    "y = (iris[\"target\"] == 2).astype(np.int64)  # 1 if Iris virginica, else 0\n"
   ]
  },
  {
   "cell_type": "code",
   "execution_count": 58,
   "id": "f8baf019",
   "metadata": {},
   "outputs": [
    {
     "data": {
      "text/plain": [
       "array([0, 0, 0, 0, 0, 0, 0, 0, 0, 0, 0, 0, 0, 0, 0, 0, 0, 0, 0, 0, 0, 0,\n",
       "       0, 0, 0, 0, 0, 0, 0, 0, 0, 0, 0, 0, 0, 0, 0, 0, 0, 0, 0, 0, 0, 0,\n",
       "       0, 0, 0, 0, 0, 0, 0, 0, 0, 0, 0, 0, 0, 0, 0, 0, 0, 0, 0, 0, 0, 0,\n",
       "       0, 0, 0, 0, 0, 0, 0, 0, 0, 0, 0, 0, 0, 0, 0, 0, 0, 0, 0, 0, 0, 0,\n",
       "       0, 0, 0, 0, 0, 0, 0, 0, 0, 0, 0, 0, 1, 1, 1, 1, 1, 1, 1, 1, 1, 1,\n",
       "       1, 1, 1, 1, 1, 1, 1, 1, 1, 1, 1, 1, 1, 1, 1, 1, 1, 1, 1, 1, 1, 1,\n",
       "       1, 1, 1, 1, 1, 1, 1, 1, 1, 1, 1, 1, 1, 1, 1, 1, 1, 1], dtype=int64)"
      ]
     },
     "execution_count": 58,
     "metadata": {},
     "output_type": "execute_result"
    }
   ],
   "source": [
    "y"
   ]
  },
  {
   "cell_type": "code",
   "execution_count": 59,
   "id": "768f32bc",
   "metadata": {},
   "outputs": [],
   "source": [
    "from sklearn.linear_model import LogisticRegression\n",
    "lr=LogisticRegression(random_state=42)"
   ]
  },
  {
   "cell_type": "code",
   "execution_count": 60,
   "id": "b0a438d4",
   "metadata": {},
   "outputs": [
    {
     "data": {
      "text/html": [
       "<style>#sk-container-id-8 {color: black;background-color: white;}#sk-container-id-8 pre{padding: 0;}#sk-container-id-8 div.sk-toggleable {background-color: white;}#sk-container-id-8 label.sk-toggleable__label {cursor: pointer;display: block;width: 100%;margin-bottom: 0;padding: 0.3em;box-sizing: border-box;text-align: center;}#sk-container-id-8 label.sk-toggleable__label-arrow:before {content: \"▸\";float: left;margin-right: 0.25em;color: #696969;}#sk-container-id-8 label.sk-toggleable__label-arrow:hover:before {color: black;}#sk-container-id-8 div.sk-estimator:hover label.sk-toggleable__label-arrow:before {color: black;}#sk-container-id-8 div.sk-toggleable__content {max-height: 0;max-width: 0;overflow: hidden;text-align: left;background-color: #f0f8ff;}#sk-container-id-8 div.sk-toggleable__content pre {margin: 0.2em;color: black;border-radius: 0.25em;background-color: #f0f8ff;}#sk-container-id-8 input.sk-toggleable__control:checked~div.sk-toggleable__content {max-height: 200px;max-width: 100%;overflow: auto;}#sk-container-id-8 input.sk-toggleable__control:checked~label.sk-toggleable__label-arrow:before {content: \"▾\";}#sk-container-id-8 div.sk-estimator input.sk-toggleable__control:checked~label.sk-toggleable__label {background-color: #d4ebff;}#sk-container-id-8 div.sk-label input.sk-toggleable__control:checked~label.sk-toggleable__label {background-color: #d4ebff;}#sk-container-id-8 input.sk-hidden--visually {border: 0;clip: rect(1px 1px 1px 1px);clip: rect(1px, 1px, 1px, 1px);height: 1px;margin: -1px;overflow: hidden;padding: 0;position: absolute;width: 1px;}#sk-container-id-8 div.sk-estimator {font-family: monospace;background-color: #f0f8ff;border: 1px dotted black;border-radius: 0.25em;box-sizing: border-box;margin-bottom: 0.5em;}#sk-container-id-8 div.sk-estimator:hover {background-color: #d4ebff;}#sk-container-id-8 div.sk-parallel-item::after {content: \"\";width: 100%;border-bottom: 1px solid gray;flex-grow: 1;}#sk-container-id-8 div.sk-label:hover label.sk-toggleable__label {background-color: #d4ebff;}#sk-container-id-8 div.sk-serial::before {content: \"\";position: absolute;border-left: 1px solid gray;box-sizing: border-box;top: 0;bottom: 0;left: 50%;z-index: 0;}#sk-container-id-8 div.sk-serial {display: flex;flex-direction: column;align-items: center;background-color: white;padding-right: 0.2em;padding-left: 0.2em;position: relative;}#sk-container-id-8 div.sk-item {position: relative;z-index: 1;}#sk-container-id-8 div.sk-parallel {display: flex;align-items: stretch;justify-content: center;background-color: white;position: relative;}#sk-container-id-8 div.sk-item::before, #sk-container-id-8 div.sk-parallel-item::before {content: \"\";position: absolute;border-left: 1px solid gray;box-sizing: border-box;top: 0;bottom: 0;left: 50%;z-index: -1;}#sk-container-id-8 div.sk-parallel-item {display: flex;flex-direction: column;z-index: 1;position: relative;background-color: white;}#sk-container-id-8 div.sk-parallel-item:first-child::after {align-self: flex-end;width: 50%;}#sk-container-id-8 div.sk-parallel-item:last-child::after {align-self: flex-start;width: 50%;}#sk-container-id-8 div.sk-parallel-item:only-child::after {width: 0;}#sk-container-id-8 div.sk-dashed-wrapped {border: 1px dashed gray;margin: 0 0.4em 0.5em 0.4em;box-sizing: border-box;padding-bottom: 0.4em;background-color: white;}#sk-container-id-8 div.sk-label label {font-family: monospace;font-weight: bold;display: inline-block;line-height: 1.2em;}#sk-container-id-8 div.sk-label-container {text-align: center;}#sk-container-id-8 div.sk-container {/* jupyter's `normalize.less` sets `[hidden] { display: none; }` but bootstrap.min.css set `[hidden] { display: none !important; }` so we also need the `!important` here to be able to override the default hidden behavior on the sphinx rendered scikit-learn.org. See: https://github.com/scikit-learn/scikit-learn/issues/21755 */display: inline-block !important;position: relative;}#sk-container-id-8 div.sk-text-repr-fallback {display: none;}</style><div id=\"sk-container-id-8\" class=\"sk-top-container\"><div class=\"sk-text-repr-fallback\"><pre>LogisticRegression(random_state=42)</pre><b>In a Jupyter environment, please rerun this cell to show the HTML representation or trust the notebook. <br />On GitHub, the HTML representation is unable to render, please try loading this page with nbviewer.org.</b></div><div class=\"sk-container\" hidden><div class=\"sk-item\"><div class=\"sk-estimator sk-toggleable\"><input class=\"sk-toggleable__control sk-hidden--visually\" id=\"sk-estimator-id-8\" type=\"checkbox\" checked><label for=\"sk-estimator-id-8\" class=\"sk-toggleable__label sk-toggleable__label-arrow\">LogisticRegression</label><div class=\"sk-toggleable__content\"><pre>LogisticRegression(random_state=42)</pre></div></div></div></div></div>"
      ],
      "text/plain": [
       "LogisticRegression(random_state=42)"
      ]
     },
     "execution_count": 60,
     "metadata": {},
     "output_type": "execute_result"
    }
   ],
   "source": [
    "lr.fit(X,y)"
   ]
  },
  {
   "cell_type": "code",
   "execution_count": 63,
   "id": "17963598",
   "metadata": {},
   "outputs": [
    {
     "data": {
      "text/plain": [
       "[<matplotlib.lines.Line2D at 0x1b6a508d070>]"
      ]
     },
     "execution_count": 63,
     "metadata": {},
     "output_type": "execute_result"
    },
    {
     "data": {
      "image/png": "[encoded data removed]",
      "text/plain": [
       "<Figure size 432x288 with 1 Axes>"
      ]
     },
     "metadata": {
      "needs_background": "light"
     },
     "output_type": "display_data"
    }
   ],
   "source": [
    "X_new = np.linspace(0, 3, 1000).reshape(-1, 1)\n",
    "y_proba = lr.predict_proba(X_new)\n",
    "\n",
    "plt.plot(X_new, y_proba[:, 1], \"g-\", linewidth=2, label=\"Iris virginica\")\n",
    "plt.plot(X_new, y_proba[:, 0], \"b--\", linewidth=2, label=\"Not Iris virginica\")"
   ]
  },
  {
   "cell_type": "code",
   "execution_count": 66,
   "id": "8a95af99",
   "metadata": {},
   "outputs": [],
   "source": [
    "X=iris.data[:,2:]#peta length,width"
   ]
  },
  {
   "cell_type": "code",
   "execution_count": 67,
   "id": "24d4477a",
   "metadata": {},
   "outputs": [
    {
     "data": {
      "text/plain": [
       "array([[1.4, 0.2],\n",
       "       [1.4, 0.2],\n",
       "       [1.3, 0.2],\n",
       "       [1.5, 0.2],\n",
       "       [1.4, 0.2],\n",
       "       [1.7, 0.4],\n",
       "       [1.4, 0.3]])"
      ]
     },
     "execution_count": 67,
     "metadata": {},
     "output_type": "execute_result"
    }
   ],
   "source": [
    "X[:7]"
   ]
  },
  {
   "cell_type": "code",
   "execution_count": 70,
   "id": "595ebe7a",
   "metadata": {},
   "outputs": [],
   "source": [
    "y=(iris.target == 2)"
   ]
  },
  {
   "cell_type": "code",
   "execution_count": 71,
   "id": "43c9f6ef",
   "metadata": {},
   "outputs": [
    {
     "data": {
      "text/plain": [
       "array([False, False, False, False, False, False, False, False, False,\n",
       "       False, False, False, False, False, False, False, False, False,\n",
       "       False, False, False, False, False, False, False, False, False,\n",
       "       False, False, False, False, False, False, False, False, False,\n",
       "       False, False, False, False, False, False, False, False, False,\n",
       "       False, False, False, False, False, False, False, False, False,\n",
       "       False, False, False, False, False, False, False, False, False,\n",
       "       False, False, False, False, False, False, False, False, False,\n",
       "       False, False, False, False, False, False, False, False, False,\n",
       "       False, False, False, False, False, False, False, False, False,\n",
       "       False, False, False, False, False, False, False, False, False,\n",
       "       False,  True,  True,  True,  True,  True,  True,  True,  True,\n",
       "        True,  True,  True,  True,  True,  True,  True,  True,  True,\n",
       "        True,  True,  True,  True,  True,  True,  True,  True,  True,\n",
       "        True,  True,  True,  True,  True,  True,  True,  True,  True,\n",
       "        True,  True,  True,  True,  True,  True,  True,  True,  True,\n",
       "        True,  True,  True,  True,  True,  True])"
      ]
     },
     "execution_count": 71,
     "metadata": {},
     "output_type": "execute_result"
    }
   ],
   "source": [
    "y"
   ]
  },
  {
   "cell_type": "code",
   "execution_count": 74,
   "id": "0ee64ef1",
   "metadata": {},
   "outputs": [],
   "source": [
    "y=y.astype(np.int64)"
   ]
  },
  {
   "cell_type": "code",
   "execution_count": 75,
   "id": "4a971ec5",
   "metadata": {},
   "outputs": [
    {
     "data": {
      "text/plain": [
       "array([0, 0, 0, 0, 0, 0, 0, 0, 0, 0, 0, 0, 0, 0, 0, 0, 0, 0, 0, 0, 0, 0,\n",
       "       0, 0, 0, 0, 0, 0, 0, 0, 0, 0, 0, 0, 0, 0, 0, 0, 0, 0, 0, 0, 0, 0,\n",
       "       0, 0, 0, 0, 0, 0, 0, 0, 0, 0, 0, 0, 0, 0, 0, 0, 0, 0, 0, 0, 0, 0,\n",
       "       0, 0, 0, 0, 0, 0, 0, 0, 0, 0, 0, 0, 0, 0, 0, 0, 0, 0, 0, 0, 0, 0,\n",
       "       0, 0, 0, 0, 0, 0, 0, 0, 0, 0, 0, 0, 1, 1, 1, 1, 1, 1, 1, 1, 1, 1,\n",
       "       1, 1, 1, 1, 1, 1, 1, 1, 1, 1, 1, 1, 1, 1, 1, 1, 1, 1, 1, 1, 1, 1,\n",
       "       1, 1, 1, 1, 1, 1, 1, 1, 1, 1, 1, 1, 1, 1, 1, 1, 1, 1], dtype=int64)"
      ]
     },
     "execution_count": 75,
     "metadata": {},
     "output_type": "execute_result"
    }
   ],
   "source": [
    "y"
   ]
  },
  {
   "cell_type": "code",
   "execution_count": 76,
   "id": "4255a945",
   "metadata": {},
   "outputs": [
    {
     "data": {
      "text/html": [
       "<style>#sk-container-id-9 {color: black;background-color: white;}#sk-container-id-9 pre{padding: 0;}#sk-container-id-9 div.sk-toggleable {background-color: white;}#sk-container-id-9 label.sk-toggleable__label {cursor: pointer;display: block;width: 100%;margin-bottom: 0;padding: 0.3em;box-sizing: border-box;text-align: center;}#sk-container-id-9 label.sk-toggleable__label-arrow:before {content: \"▸\";float: left;margin-right: 0.25em;color: #696969;}#sk-container-id-9 label.sk-toggleable__label-arrow:hover:before {color: black;}#sk-container-id-9 div.sk-estimator:hover label.sk-toggleable__label-arrow:before {color: black;}#sk-container-id-9 div.sk-toggleable__content {max-height: 0;max-width: 0;overflow: hidden;text-align: left;background-color: #f0f8ff;}#sk-container-id-9 div.sk-toggleable__content pre {margin: 0.2em;color: black;border-radius: 0.25em;background-color: #f0f8ff;}#sk-container-id-9 input.sk-toggleable__control:checked~div.sk-toggleable__content {max-height: 200px;max-width: 100%;overflow: auto;}#sk-container-id-9 input.sk-toggleable__control:checked~label.sk-toggleable__label-arrow:before {content: \"▾\";}#sk-container-id-9 div.sk-estimator input.sk-toggleable__control:checked~label.sk-toggleable__label {background-color: #d4ebff;}#sk-container-id-9 div.sk-label input.sk-toggleable__control:checked~label.sk-toggleable__label {background-color: #d4ebff;}#sk-container-id-9 input.sk-hidden--visually {border: 0;clip: rect(1px 1px 1px 1px);clip: rect(1px, 1px, 1px, 1px);height: 1px;margin: -1px;overflow: hidden;padding: 0;position: absolute;width: 1px;}#sk-container-id-9 div.sk-estimator {font-family: monospace;background-color: #f0f8ff;border: 1px dotted black;border-radius: 0.25em;box-sizing: border-box;margin-bottom: 0.5em;}#sk-container-id-9 div.sk-estimator:hover {background-color: #d4ebff;}#sk-container-id-9 div.sk-parallel-item::after {content: \"\";width: 100%;border-bottom: 1px solid gray;flex-grow: 1;}#sk-container-id-9 div.sk-label:hover label.sk-toggleable__label {background-color: #d4ebff;}#sk-container-id-9 div.sk-serial::before {content: \"\";position: absolute;border-left: 1px solid gray;box-sizing: border-box;top: 0;bottom: 0;left: 50%;z-index: 0;}#sk-container-id-9 div.sk-serial {display: flex;flex-direction: column;align-items: center;background-color: white;padding-right: 0.2em;padding-left: 0.2em;position: relative;}#sk-container-id-9 div.sk-item {position: relative;z-index: 1;}#sk-container-id-9 div.sk-parallel {display: flex;align-items: stretch;justify-content: center;background-color: white;position: relative;}#sk-container-id-9 div.sk-item::before, #sk-container-id-9 div.sk-parallel-item::before {content: \"\";position: absolute;border-left: 1px solid gray;box-sizing: border-box;top: 0;bottom: 0;left: 50%;z-index: -1;}#sk-container-id-9 div.sk-parallel-item {display: flex;flex-direction: column;z-index: 1;position: relative;background-color: white;}#sk-container-id-9 div.sk-parallel-item:first-child::after {align-self: flex-end;width: 50%;}#sk-container-id-9 div.sk-parallel-item:last-child::after {align-self: flex-start;width: 50%;}#sk-container-id-9 div.sk-parallel-item:only-child::after {width: 0;}#sk-container-id-9 div.sk-dashed-wrapped {border: 1px dashed gray;margin: 0 0.4em 0.5em 0.4em;box-sizing: border-box;padding-bottom: 0.4em;background-color: white;}#sk-container-id-9 div.sk-label label {font-family: monospace;font-weight: bold;display: inline-block;line-height: 1.2em;}#sk-container-id-9 div.sk-label-container {text-align: center;}#sk-container-id-9 div.sk-container {/* jupyter's `normalize.less` sets `[hidden] { display: none; }` but bootstrap.min.css set `[hidden] { display: none !important; }` so we also need the `!important` here to be able to override the default hidden behavior on the sphinx rendered scikit-learn.org. See: https://github.com/scikit-learn/scikit-learn/issues/21755 */display: inline-block !important;position: relative;}#sk-container-id-9 div.sk-text-repr-fallback {display: none;}</style><div id=\"sk-container-id-9\" class=\"sk-top-container\"><div class=\"sk-text-repr-fallback\"><pre>LogisticRegression(random_state=42)</pre><b>In a Jupyter environment, please rerun this cell to show the HTML representation or trust the notebook. <br />On GitHub, the HTML representation is unable to render, please try loading this page with nbviewer.org.</b></div><div class=\"sk-container\" hidden><div class=\"sk-item\"><div class=\"sk-estimator sk-toggleable\"><input class=\"sk-toggleable__control sk-hidden--visually\" id=\"sk-estimator-id-9\" type=\"checkbox\" checked><label for=\"sk-estimator-id-9\" class=\"sk-toggleable__label sk-toggleable__label-arrow\">LogisticRegression</label><div class=\"sk-toggleable__content\"><pre>LogisticRegression(random_state=42)</pre></div></div></div></div></div>"
      ],
      "text/plain": [
       "LogisticRegression(random_state=42)"
      ]
     },
     "execution_count": 76,
     "metadata": {},
     "output_type": "execute_result"
    }
   ],
   "source": [
    "log_reg=LogisticRegression(random_state=42)\n",
    "log_reg.fit(X,y)"
   ]
  },
  {
   "cell_type": "code",
   "execution_count": 86,
   "id": "26f1eb40",
   "metadata": {},
   "outputs": [
    {
     "data": {
      "text/plain": [
       "array([1], dtype=int64)"
      ]
     },
     "execution_count": 86,
     "metadata": {},
     "output_type": "execute_result"
    }
   ],
   "source": [
    "log_reg.predict([[5,1.7]])"
   ]
  },
  {
   "cell_type": "code",
   "execution_count": 87,
   "id": "a67e9cbd",
   "metadata": {},
   "outputs": [
    {
     "data": {
      "text/html": [
       "<style>#sk-container-id-10 {color: black;background-color: white;}#sk-container-id-10 pre{padding: 0;}#sk-container-id-10 div.sk-toggleable {background-color: white;}#sk-container-id-10 label.sk-toggleable__label {cursor: pointer;display: block;width: 100%;margin-bottom: 0;padding: 0.3em;box-sizing: border-box;text-align: center;}#sk-container-id-10 label.sk-toggleable__label-arrow:before {content: \"▸\";float: left;margin-right: 0.25em;color: #696969;}#sk-container-id-10 label.sk-toggleable__label-arrow:hover:before {color: black;}#sk-container-id-10 div.sk-estimator:hover label.sk-toggleable__label-arrow:before {color: black;}#sk-container-id-10 div.sk-toggleable__content {max-height: 0;max-width: 0;overflow: hidden;text-align: left;background-color: #f0f8ff;}#sk-container-id-10 div.sk-toggleable__content pre {margin: 0.2em;color: black;border-radius: 0.25em;background-color: #f0f8ff;}#sk-container-id-10 input.sk-toggleable__control:checked~div.sk-toggleable__content {max-height: 200px;max-width: 100%;overflow: auto;}#sk-container-id-10 input.sk-toggleable__control:checked~label.sk-toggleable__label-arrow:before {content: \"▾\";}#sk-container-id-10 div.sk-estimator input.sk-toggleable__control:checked~label.sk-toggleable__label {background-color: #d4ebff;}#sk-container-id-10 div.sk-label input.sk-toggleable__control:checked~label.sk-toggleable__label {background-color: #d4ebff;}#sk-container-id-10 input.sk-hidden--visually {border: 0;clip: rect(1px 1px 1px 1px);clip: rect(1px, 1px, 1px, 1px);height: 1px;margin: -1px;overflow: hidden;padding: 0;position: absolute;width: 1px;}#sk-container-id-10 div.sk-estimator {font-family: monospace;background-color: #f0f8ff;border: 1px dotted black;border-radius: 0.25em;box-sizing: border-box;margin-bottom: 0.5em;}#sk-container-id-10 div.sk-estimator:hover {background-color: #d4ebff;}#sk-container-id-10 div.sk-parallel-item::after {content: \"\";width: 100%;border-bottom: 1px solid gray;flex-grow: 1;}#sk-container-id-10 div.sk-label:hover label.sk-toggleable__label {background-color: #d4ebff;}#sk-container-id-10 div.sk-serial::before {content: \"\";position: absolute;border-left: 1px solid gray;box-sizing: border-box;top: 0;bottom: 0;left: 50%;z-index: 0;}#sk-container-id-10 div.sk-serial {display: flex;flex-direction: column;align-items: center;background-color: white;padding-right: 0.2em;padding-left: 0.2em;position: relative;}#sk-container-id-10 div.sk-item {position: relative;z-index: 1;}#sk-container-id-10 div.sk-parallel {display: flex;align-items: stretch;justify-content: center;background-color: white;position: relative;}#sk-container-id-10 div.sk-item::before, #sk-container-id-10 div.sk-parallel-item::before {content: \"\";position: absolute;border-left: 1px solid gray;box-sizing: border-box;top: 0;bottom: 0;left: 50%;z-index: -1;}#sk-container-id-10 div.sk-parallel-item {display: flex;flex-direction: column;z-index: 1;position: relative;background-color: white;}#sk-container-id-10 div.sk-parallel-item:first-child::after {align-self: flex-end;width: 50%;}#sk-container-id-10 div.sk-parallel-item:last-child::after {align-self: flex-start;width: 50%;}#sk-container-id-10 div.sk-parallel-item:only-child::after {width: 0;}#sk-container-id-10 div.sk-dashed-wrapped {border: 1px dashed gray;margin: 0 0.4em 0.5em 0.4em;box-sizing: border-box;padding-bottom: 0.4em;background-color: white;}#sk-container-id-10 div.sk-label label {font-family: monospace;font-weight: bold;display: inline-block;line-height: 1.2em;}#sk-container-id-10 div.sk-label-container {text-align: center;}#sk-container-id-10 div.sk-container {/* jupyter's `normalize.less` sets `[hidden] { display: none; }` but bootstrap.min.css set `[hidden] { display: none !important; }` so we also need the `!important` here to be able to override the default hidden behavior on the sphinx rendered scikit-learn.org. See: https://github.com/scikit-learn/scikit-learn/issues/21755 */display: inline-block !important;position: relative;}#sk-container-id-10 div.sk-text-repr-fallback {display: none;}</style><div id=\"sk-container-id-10\" class=\"sk-top-container\"><div class=\"sk-text-repr-fallback\"><pre>LogisticRegression(C=10, multi_class=&#x27;multinomial&#x27;, random_state=42)</pre><b>In a Jupyter environment, please rerun this cell to show the HTML representation or trust the notebook. <br />On GitHub, the HTML representation is unable to render, please try loading this page with nbviewer.org.</b></div><div class=\"sk-container\" hidden><div class=\"sk-item\"><div class=\"sk-estimator sk-toggleable\"><input class=\"sk-toggleable__control sk-hidden--visually\" id=\"sk-estimator-id-10\" type=\"checkbox\" checked><label for=\"sk-estimator-id-10\" class=\"sk-toggleable__label sk-toggleable__label-arrow\">LogisticRegression</label><div class=\"sk-toggleable__content\"><pre>LogisticRegression(C=10, multi_class=&#x27;multinomial&#x27;, random_state=42)</pre></div></div></div></div></div>"
      ],
      "text/plain": [
       "LogisticRegression(C=10, multi_class='multinomial', random_state=42)"
      ]
     },
     "execution_count": 87,
     "metadata": {},
     "output_type": "execute_result"
    }
   ],
   "source": [
    "X = iris[\"data\"][:, (2, 3)]  # petal length, petal width\n",
    "y = iris[\"target\"]\n",
    "\n",
    "softmax_reg = LogisticRegression(multi_class=\"multinomial\",solver=\"lbfgs\", C=10, random_state=42)\n",
    "softmax_reg.fit(X, y)"
   ]
  },
  {
   "cell_type": "code",
   "execution_count": 88,
   "id": "d0ded1ee",
   "metadata": {},
   "outputs": [
    {
     "data": {
      "text/plain": [
       "array([[6.38014896e-07, 5.74929995e-02, 9.42506362e-01]])"
      ]
     },
     "execution_count": 88,
     "metadata": {},
     "output_type": "execute_result"
    }
   ],
   "source": [
    "softmax_reg.predict_proba([[5, 2]])\n"
   ]
  },
  {
   "cell_type": "code",
   "execution_count": null,
   "id": "cf35ae4b",
   "metadata": {},
   "outputs": [],
   "source": []
  }
 ],
 "metadata": {
  "kernelspec": {
   "display_name": "Python 3 (ipykernel)",
   "language": "python",
   "name": "python3"
  },
  "language_info": {
   "codemirror_mode": {
    "name": "ipython",
    "version": 3
   },
   "file_extension": ".py",
   "mimetype": "text/x-python",
   "name": "python",
   "nbconvert_exporter": "python",
   "pygments_lexer": "ipython3",
   "version": "3.8.11"
  }
 },
 "nbformat": 4,
 "nbformat_minor": 5
}
